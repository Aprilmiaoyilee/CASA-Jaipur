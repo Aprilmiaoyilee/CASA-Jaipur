{
 "cells": [
  {
   "cell_type": "code",
   "id": "initial_id",
   "metadata": {
    "collapsed": true,
    "jupyter": {
     "outputs_hidden": true
    },
    "ExecuteTime": {
     "end_time": "2025-08-07T03:09:57.674306Z",
     "start_time": "2025-08-07T03:09:57.648215Z"
    }
   },
   "source": [
    "import os\n",
    "os.getcwd()\n",
    "os.chdir(\"G:/OneDrive/casa0010dissertation/00_06 jaipur code_mgwr\")\n"
   ],
   "outputs": [],
   "execution_count": 1
  },
  {
   "cell_type": "code",
   "id": "ded2fe91fff97a88",
   "metadata": {
    "ExecuteTime": {
     "end_time": "2025-08-07T03:09:58.626869Z",
     "start_time": "2025-08-07T03:09:57.728316Z"
    }
   },
   "source": [
    "import numpy as np\n",
    "import geopandas as gpd\n",
    "import json\n",
    "import pandas as pd\n"
   ],
   "outputs": [],
   "execution_count": 2
  },
  {
   "cell_type": "markdown",
   "id": "27a33c9fe462c345",
   "metadata": {},
   "source": "# 1 Rescale the grid variavles as i did in GWR"
  },
  {
   "cell_type": "code",
   "id": "7c9bdd27ef605072",
   "metadata": {
    "ExecuteTime": {
     "end_time": "2025-08-07T03:10:02.916340Z",
     "start_time": "2025-08-07T03:09:58.981649Z"
    }
   },
   "source": "grid_with_wards = gpd.read_file('data/cleaned/grid_with_wards_mgwr_03.geojson')",
   "outputs": [],
   "execution_count": 3
  },
  {
   "metadata": {
    "ExecuteTime": {
     "end_time": "2025-08-07T03:10:02.931845Z",
     "start_time": "2025-08-07T03:10:02.922387Z"
    }
   },
   "cell_type": "code",
   "source": "grid_with_wards.columns",
   "id": "9fc2d1bffba70bac",
   "outputs": [
    {
     "data": {
      "text/plain": [
       "Index(['grid_id', 'row', 'col', 'illum_vol_density', 'light_intensity',\n",
       "       'poi_kde', 'Id', 'Ward_No', 'POP', 'intercept', 'illum_vol_estimate',\n",
       "       'light_intensity_estimate', 'poi_kde_estimate', 'poi_kde_scaled',\n",
       "       'geometry'],\n",
       "      dtype='object')"
      ]
     },
     "execution_count": 4,
     "metadata": {},
     "output_type": "execute_result"
    }
   ],
   "execution_count": 4
  },
  {
   "metadata": {
    "ExecuteTime": {
     "end_time": "2025-08-07T03:10:02.965489Z",
     "start_time": "2025-08-07T03:10:02.957966Z"
    }
   },
   "cell_type": "code",
   "source": [
    "with open(\"mgwr_test/ward_scalers.json\", encoding=\"utf-8\") as f:\n",
    "    params = json.load(f)"
   ],
   "id": "ca33c82fe7f7b82a",
   "outputs": [],
   "execution_count": 5
  },
  {
   "metadata": {
    "ExecuteTime": {
     "end_time": "2025-08-07T03:10:02.988944Z",
     "start_time": "2025-08-07T03:10:02.981548Z"
    }
   },
   "cell_type": "code",
   "source": [
    "# --- 1. Rename columns for clarity and consistency ---\n",
    "\n",
    "# Define the renaming mapping\n",
    "\n",
    "grid_pred_data = grid_with_wards.copy()\n",
    "\n",
    "\n",
    "rename_mapping = {\n",
    "    'intercept': 'beta_intercept',\n",
    "    'illum_vol_estimate': 'beta_illum_vol',\n",
    "    'light_intensity_estimate': 'beta_light_intensity',\n",
    "    'poi_kde_estimate': 'beta_poi_kde'\n",
    "}\n",
    "grid_pred_data.rename(columns=rename_mapping, inplace=True)\n",
    "print(\"--- Coefficient columns have been renamed for clarity ---\")\n"
   ],
   "id": "da34ee8657162905",
   "outputs": [
    {
     "name": "stdout",
     "output_type": "stream",
     "text": [
      "--- Coefficient columns have been renamed for clarity ---\n"
     ]
    }
   ],
   "execution_count": 6
  },
  {
   "metadata": {
    "ExecuteTime": {
     "end_time": "2025-08-07T03:10:03.021939Z",
     "start_time": "2025-08-07T03:10:03.010209Z"
    }
   },
   "cell_type": "code",
   "source": [
    "# --- 2(Scaling) ---\n",
    "\n",
    "x_cols = ['illum_vol_density', 'light_intensity', 'poi_kde_scaled']\n",
    "\n",
    "print(\"\\n--- Standardizing grid-level variables using ward-level parameters... ---\")\n",
    "\n",
    "for col in x_cols:\n",
    "    #  WARD level parameters for each variable\n",
    "    ward_mu = params['x_params'][col]['mu']\n",
    "    ward_std = params['x_params'][col]['std']\n",
    "\n",
    "    #  Log1p\n",
    "    log_x_grid = np.log1p(grid_pred_data[col])\n",
    "\n",
    "    #  WARD  Z-score using the ward parameters\n",
    "    z_score_col_name = col + '_std'\n",
    "    grid_pred_data[z_score_col_name] = (log_x_grid - ward_mu) / ward_std\n",
    "\n",
    "print(\"--- Standardization complete. ---\")"
   ],
   "id": "25f94052581238d",
   "outputs": [
    {
     "name": "stdout",
     "output_type": "stream",
     "text": [
      "\n",
      "--- Standardizing grid-level variables using ward-level parameters... ---\n",
      "--- Standardization complete. ---\n"
     ]
    }
   ],
   "execution_count": 7
  },
  {
   "metadata": {
    "ExecuteTime": {
     "end_time": "2025-08-07T03:10:03.053381Z",
     "start_time": "2025-08-07T03:10:03.047207Z"
    }
   },
   "cell_type": "code",
   "source": " grid_pred_data.columns",
   "id": "764d9a025a846153",
   "outputs": [
    {
     "data": {
      "text/plain": [
       "Index(['grid_id', 'row', 'col', 'illum_vol_density', 'light_intensity',\n",
       "       'poi_kde', 'Id', 'Ward_No', 'POP', 'beta_intercept', 'beta_illum_vol',\n",
       "       'beta_light_intensity', 'beta_poi_kde', 'poi_kde_scaled', 'geometry',\n",
       "       'illum_vol_density_std', 'light_intensity_std', 'poi_kde_scaled_std'],\n",
       "      dtype='object')"
      ]
     },
     "execution_count": 8,
     "metadata": {},
     "output_type": "execute_result"
    }
   ],
   "execution_count": 8
  },
  {
   "metadata": {
    "ExecuteTime": {
     "end_time": "2025-08-07T03:12:39.494657Z",
     "start_time": "2025-08-07T03:12:39.463736Z"
    }
   },
   "cell_type": "code",
   "source": " grid_pred_data[['beta_intercept','illum_vol_density_std', 'light_intensity_std', 'poi_kde_scaled_std']].describe()\n",
   "id": "ef7b0fb3c160cad",
   "outputs": [
    {
     "data": {
      "text/plain": [
       "       beta_intercept  illum_vol_density_std  light_intensity_std  \\\n",
       "count    38906.000000           38906.000000         38906.000000   \n",
       "mean         0.680088             -17.817689            -6.939641   \n",
       "std          1.928375               6.912239             5.082476   \n",
       "min         -3.712855             -22.977989           -10.716118   \n",
       "25%          0.000000             -22.977989           -10.716118   \n",
       "50%          0.000000             -22.977989           -10.716118   \n",
       "75%          0.000000              -8.977886            -0.482834   \n",
       "max          6.094717              -6.569271             2.704089   \n",
       "\n",
       "       poi_kde_scaled_std  \n",
       "count        38906.000000  \n",
       "mean            -1.576639  \n",
       "std              1.223289  \n",
       "min             -2.402737  \n",
       "25%             -2.402737  \n",
       "50%             -2.402737  \n",
       "75%             -0.735324  \n",
       "max              1.999526  "
      ],
      "text/html": [
       "<div>\n",
       "<style scoped>\n",
       "    .dataframe tbody tr th:only-of-type {\n",
       "        vertical-align: middle;\n",
       "    }\n",
       "\n",
       "    .dataframe tbody tr th {\n",
       "        vertical-align: top;\n",
       "    }\n",
       "\n",
       "    .dataframe thead th {\n",
       "        text-align: right;\n",
       "    }\n",
       "</style>\n",
       "<table border=\"1\" class=\"dataframe\">\n",
       "  <thead>\n",
       "    <tr style=\"text-align: right;\">\n",
       "      <th></th>\n",
       "      <th>beta_intercept</th>\n",
       "      <th>illum_vol_density_std</th>\n",
       "      <th>light_intensity_std</th>\n",
       "      <th>poi_kde_scaled_std</th>\n",
       "    </tr>\n",
       "  </thead>\n",
       "  <tbody>\n",
       "    <tr>\n",
       "      <th>count</th>\n",
       "      <td>38906.000000</td>\n",
       "      <td>38906.000000</td>\n",
       "      <td>38906.000000</td>\n",
       "      <td>38906.000000</td>\n",
       "    </tr>\n",
       "    <tr>\n",
       "      <th>mean</th>\n",
       "      <td>0.680088</td>\n",
       "      <td>-17.817689</td>\n",
       "      <td>-6.939641</td>\n",
       "      <td>-1.576639</td>\n",
       "    </tr>\n",
       "    <tr>\n",
       "      <th>std</th>\n",
       "      <td>1.928375</td>\n",
       "      <td>6.912239</td>\n",
       "      <td>5.082476</td>\n",
       "      <td>1.223289</td>\n",
       "    </tr>\n",
       "    <tr>\n",
       "      <th>min</th>\n",
       "      <td>-3.712855</td>\n",
       "      <td>-22.977989</td>\n",
       "      <td>-10.716118</td>\n",
       "      <td>-2.402737</td>\n",
       "    </tr>\n",
       "    <tr>\n",
       "      <th>25%</th>\n",
       "      <td>0.000000</td>\n",
       "      <td>-22.977989</td>\n",
       "      <td>-10.716118</td>\n",
       "      <td>-2.402737</td>\n",
       "    </tr>\n",
       "    <tr>\n",
       "      <th>50%</th>\n",
       "      <td>0.000000</td>\n",
       "      <td>-22.977989</td>\n",
       "      <td>-10.716118</td>\n",
       "      <td>-2.402737</td>\n",
       "    </tr>\n",
       "    <tr>\n",
       "      <th>75%</th>\n",
       "      <td>0.000000</td>\n",
       "      <td>-8.977886</td>\n",
       "      <td>-0.482834</td>\n",
       "      <td>-0.735324</td>\n",
       "    </tr>\n",
       "    <tr>\n",
       "      <th>max</th>\n",
       "      <td>6.094717</td>\n",
       "      <td>-6.569271</td>\n",
       "      <td>2.704089</td>\n",
       "      <td>1.999526</td>\n",
       "    </tr>\n",
       "  </tbody>\n",
       "</table>\n",
       "</div>"
      ]
     },
     "execution_count": 17,
     "metadata": {},
     "output_type": "execute_result"
    }
   ],
   "execution_count": 17
  },
  {
   "metadata": {},
   "cell_type": "markdown",
   "source": "# 2 get grid prediction data",
   "id": "a5c06bed252e4298"
  },
  {
   "metadata": {
    "ExecuteTime": {
     "end_time": "2025-08-07T03:10:03.187104Z",
     "start_time": "2025-08-07T03:10:03.177295Z"
    }
   },
   "cell_type": "code",
   "source": [
    "# --- 3. Final and safe prediction with inverse transformation ---\n",
    "\n",
    "# a. Define matching variable and coefficient column names\n",
    "z_illum_col = 'illum_vol_density_std'\n",
    "z_light_col = 'light_intensity_std'\n",
    "z_poi_col = 'poi_kde_scaled_std'  # Make sure column names match\n",
    "\n",
    "beta_intercept_col = 'beta_intercept'\n",
    "beta_illum_col = 'beta_illum_vol'\n",
    "beta_light_col = 'beta_light_intensity'\n",
    "beta_poi_col = 'beta_poi_kde'\n",
    "\n",
    "\n",
    "# b. Perform precise prediction calculation\n",
    "z_illum_vals =  grid_pred_data[z_illum_col].values\n",
    "z_light_vals =  grid_pred_data[z_light_col].values\n",
    "z_poi_vals =  grid_pred_data[z_poi_col].values\n",
    "\n",
    "beta_intercept_vals =  grid_pred_data[beta_intercept_col].values\n",
    "beta_illum_vals =  grid_pred_data[beta_illum_col].values\n",
    "beta_light_vals =  grid_pred_data[beta_light_col].values\n",
    "beta_poi_vals =  grid_pred_data[beta_poi_col].values\n",
    "\n",
    "#c. Compute: y_pred_z = beta_0 + beta_1*z1 + ...\n",
    "Predicted_Z_Y = (\n",
    "    beta_intercept_vals +\n",
    "    (beta_illum_vals * z_illum_vals) +\n",
    "    (beta_light_vals * z_light_vals) +\n",
    "    (beta_poi_vals * z_poi_vals)\n",
    ")\n",
    "\n",
    "grid_pred_data['Predicted_Z_Y'] = Predicted_Z_Y\n"
   ],
   "id": "ff2187053c8b719",
   "outputs": [],
   "execution_count": 10
  },
  {
   "metadata": {
    "ExecuteTime": {
     "end_time": "2025-08-07T03:10:03.284037Z",
     "start_time": "2025-08-07T03:10:03.273206Z"
    }
   },
   "cell_type": "code",
   "source": [
    "# Z-score predictions\n",
    "print(\"\\n--- Descriptive Statistics for Z-score predictions \")\n",
    "print( grid_pred_data['Predicted_Z_Y'].describe())"
   ],
   "id": "223c9aafbb490eaf",
   "outputs": [
    {
     "name": "stdout",
     "output_type": "stream",
     "text": [
      "\n",
      "--- Descriptive Statistics for Z-score predictions \n",
      "count    38906.000000\n",
      "mean       199.142085\n",
      "std         76.192424\n",
      "min         56.162870\n",
      "25%        111.487164\n",
      "50%        212.066507\n",
      "75%        266.004875\n",
      "max        316.913547\n",
      "Name: Predicted_Z_Y, dtype: float64\n"
     ]
    }
   ],
   "execution_count": 11
  },
  {
   "metadata": {
    "ExecuteTime": {
     "end_time": "2025-08-07T03:10:03.377827Z",
     "start_time": "2025-08-07T03:10:03.367080Z"
    }
   },
   "cell_type": "code",
   "source": [
    "# d. get Predicted_log_Y\n",
    "y_mu_ward = params['y_params']['mu']\n",
    "y_std_ward = params['y_params']['std']\n",
    "grid_pred_data['Predicted_log_Y'] = (grid_pred_data['Predicted_Z_Y'] * y_std_ward) + y_mu_ward\n",
    "print(grid_pred_data['Predicted_log_Y'].describe())"
   ],
   "id": "d58e03cc578d9c17",
   "outputs": [
    {
     "name": "stdout",
     "output_type": "stream",
     "text": [
      "count    38906.000000\n",
      "mean       208.887488\n",
      "std         78.063204\n",
      "min         62.397654\n",
      "25%        119.080345\n",
      "50%        222.129248\n",
      "75%        277.391984\n",
      "max        329.550635\n",
      "Name: Predicted_log_Y, dtype: float64\n"
     ]
    }
   ],
   "execution_count": 12
  },
  {
   "metadata": {
    "ExecuteTime": {
     "end_time": "2025-08-07T03:10:03.425089Z",
     "start_time": "2025-08-07T03:10:03.417538Z"
    }
   },
   "cell_type": "code",
   "source": "grid_pred_data.columns",
   "id": "44e35c424e3519df",
   "outputs": [
    {
     "data": {
      "text/plain": [
       "Index(['grid_id', 'row', 'col', 'illum_vol_density', 'light_intensity',\n",
       "       'poi_kde', 'Id', 'Ward_No', 'POP', 'beta_intercept', 'beta_illum_vol',\n",
       "       'beta_light_intensity', 'beta_poi_kde', 'poi_kde_scaled', 'geometry',\n",
       "       'illum_vol_density_std', 'light_intensity_std', 'poi_kde_scaled_std',\n",
       "       'Predicted_Z_Y', 'Predicted_log_Y'],\n",
       "      dtype='object')"
      ]
     },
     "execution_count": 13,
     "metadata": {},
     "output_type": "execute_result"
    }
   ],
   "execution_count": 13
  },
  {
   "metadata": {
    "ExecuteTime": {
     "end_time": "2025-08-07T03:10:03.483265Z",
     "start_time": "2025-08-07T03:10:03.467733Z"
    }
   },
   "cell_type": "code",
   "source": "grid_pred_data.info()",
   "id": "f33e252ca8934990",
   "outputs": [
    {
     "name": "stdout",
     "output_type": "stream",
     "text": [
      "<class 'geopandas.geodataframe.GeoDataFrame'>\n",
      "RangeIndex: 38906 entries, 0 to 38905\n",
      "Data columns (total 20 columns):\n",
      " #   Column                 Non-Null Count  Dtype   \n",
      "---  ------                 --------------  -----   \n",
      " 0   grid_id                38906 non-null  int32   \n",
      " 1   row                    38906 non-null  int32   \n",
      " 2   col                    38906 non-null  int32   \n",
      " 3   illum_vol_density      38906 non-null  float64 \n",
      " 4   light_intensity        38906 non-null  float64 \n",
      " 5   poi_kde                38906 non-null  float64 \n",
      " 6   Id                     38906 non-null  float64 \n",
      " 7   Ward_No                38906 non-null  float64 \n",
      " 8   POP                    38906 non-null  float64 \n",
      " 9   beta_intercept         38906 non-null  float64 \n",
      " 10  beta_illum_vol         38906 non-null  float64 \n",
      " 11  beta_light_intensity   38906 non-null  float64 \n",
      " 12  beta_poi_kde           38906 non-null  float64 \n",
      " 13  poi_kde_scaled         38906 non-null  float64 \n",
      " 14  geometry               38906 non-null  geometry\n",
      " 15  illum_vol_density_std  38906 non-null  float64 \n",
      " 16  light_intensity_std    38906 non-null  float64 \n",
      " 17  poi_kde_scaled_std     38906 non-null  float64 \n",
      " 18  Predicted_Z_Y          38906 non-null  float64 \n",
      " 19  Predicted_log_Y        38906 non-null  float64 \n",
      "dtypes: float64(16), geometry(1), int32(3)\n",
      "memory usage: 5.5 MB\n"
     ]
    }
   ],
   "execution_count": 14
  },
  {
   "cell_type": "code",
   "id": "48d03a1267a23756",
   "metadata": {
    "ExecuteTime": {
     "end_time": "2025-08-07T03:10:06.835547Z",
     "start_time": "2025-08-07T03:10:03.521065Z"
    }
   },
   "source": "grid_pred_data.to_file('data/cleaned/grid_data_for_weights_mgwr03.geojson', driver='GeoJSON')",
   "outputs": [],
   "execution_count": 15
  }
 ],
 "metadata": {
  "kernelspec": {
   "display_name": "Python 3 (ipykernel)",
   "language": "python",
   "name": "python3"
  },
  "language_info": {
   "codemirror_mode": {
    "name": "ipython",
    "version": 3
   },
   "file_extension": ".py",
   "mimetype": "text/x-python",
   "name": "python",
   "nbconvert_exporter": "python",
   "pygments_lexer": "ipython3",
   "version": "3.11.11"
  }
 },
 "nbformat": 4,
 "nbformat_minor": 5
}
