{
 "cells": [
  {
   "metadata": {
    "ExecuteTime": {
     "end_time": "2025-08-02T05:48:42.960666Z",
     "start_time": "2025-08-02T05:48:42.956203Z"
    }
   },
   "cell_type": "code",
   "source": [
    "import os\n",
    "os.getcwd()\n",
    "os.chdir(\"G:/OneDrive/casa0010dissertation/00_06 jaipur code\")"
   ],
   "id": "4ba5da41bad450f9",
   "outputs": [],
   "execution_count": 2
  },
  {
   "metadata": {
    "collapsed": true,
    "ExecuteTime": {
     "end_time": "2025-08-02T05:48:46.105070Z",
     "start_time": "2025-08-02T05:48:44.412328Z"
    }
   },
   "cell_type": "code",
   "source": [
    "import geopandas as gpd\n",
    "from shapely import unary_union\n",
    "import matplotlib.pyplot as plt\n"
   ],
   "id": "initial_id",
   "outputs": [],
   "execution_count": 3
  },
  {
   "metadata": {
    "ExecuteTime": {
     "end_time": "2025-08-02T05:48:47.592100Z",
     "start_time": "2025-08-02T05:48:47.186092Z"
    }
   },
   "cell_type": "code",
   "source": [
    "\n",
    "hexes = gpd.read_file(\"data/raw/pca/jaipur_hex_500m_horizonta_intersect.geojson\")\n",
    "city  = gpd.read_file(\"data/raw/JMC_union.geojson\")\n",
    "\n"
   ],
   "id": "840a8b5f1cc75c50",
   "outputs": [],
   "execution_count": 4
  },
  {
   "metadata": {
    "ExecuteTime": {
     "end_time": "2025-08-02T05:48:49.600772Z",
     "start_time": "2025-08-02T05:48:49.286660Z"
    }
   },
   "cell_type": "code",
   "source": [
    "# calculate the area of each hexagon and the area of intersection with the city boundary\n",
    "city_union = unary_union(city.geometry)\n",
    "hexes[\"area_cell\"] = hexes.area\n",
    "hexes[\"area_clip\"] = hexes.intersection(city_union).area\n",
    "hexes[\"cover\"]     = hexes[\"area_clip\"] / hexes[\"area_cell\"]\n",
    "\n",
    "# filter cover ≥ 0.50\n",
    "core = hexes.loc[hexes[\"cover\"] >= 0.5].copy()"
   ],
   "id": "80fb31f5e25be116",
   "outputs": [],
   "execution_count": 5
  },
  {
   "metadata": {
    "ExecuteTime": {
     "end_time": "2025-08-02T05:51:35.315409Z",
     "start_time": "2025-08-02T05:51:35.090853Z"
    }
   },
   "cell_type": "code",
   "source": "core.to_file(\"data/raw/pca/jaipur_hex500_core_0.5.geojson\", driver=\"GeoJSON\")",
   "id": "954d6c31904311d9",
   "outputs": [],
   "execution_count": 7
  }
 ],
 "metadata": {
  "kernelspec": {
   "display_name": "Python 3",
   "language": "python",
   "name": "python3"
  },
  "language_info": {
   "codemirror_mode": {
    "name": "ipython",
    "version": 2
   },
   "file_extension": ".py",
   "mimetype": "text/x-python",
   "name": "python",
   "nbconvert_exporter": "python",
   "pygments_lexer": "ipython2",
   "version": "2.7.6"
  }
 },
 "nbformat": 4,
 "nbformat_minor": 5
}
