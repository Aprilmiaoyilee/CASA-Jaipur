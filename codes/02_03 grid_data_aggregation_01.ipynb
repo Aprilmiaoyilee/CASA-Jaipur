{
 "cells": [
  {
   "cell_type": "code",
   "id": "initial_id",
   "metadata": {
    "collapsed": true,
    "ExecuteTime": {
     "end_time": "2025-08-14T18:40:59.170351Z",
     "start_time": "2025-08-14T18:40:59.160825Z"
    }
   },
   "source": [
    "import os\n",
    "os.getcwd()\n",
    "os.chdir(\"G:/OneDrive/casa0010dissertation/00_06 jaipur code_mgwr\")"
   ],
   "outputs": [],
   "execution_count": 1
  },
  {
   "metadata": {
    "ExecuteTime": {
     "end_time": "2025-08-14T18:41:00.196549Z",
     "start_time": "2025-08-14T18:40:59.175352Z"
    }
   },
   "cell_type": "code",
   "source": [
    "import geopandas as gpd\n",
    "from exactextract import exact_extract\n",
    "import rasterio\n",
    "import pandas as pd"
   ],
   "id": "847463b8a98a5fbb",
   "outputs": [],
   "execution_count": 2
  },
  {
   "metadata": {
    "ExecuteTime": {
     "end_time": "2025-08-14T18:41:00.866212Z",
     "start_time": "2025-08-14T18:41:00.502077Z"
    }
   },
   "cell_type": "code",
   "source": [
    "# Load my hex grid\n",
    "hex_grid = gpd.read_file('data/raw/pca/jaipur_hex500_core_0.5.geojson')\n",
    "\n",
    "# Fix id column and rename to hex_id\n",
    "hex_grid = hex_grid.rename(columns={\"id\": \"hex_id\"})\n",
    "hex_grid[\"hex_id\"] = pd.to_numeric(hex_grid[\"hex_id\"], errors=\"raise\").astype(\"int32\")\n",
    "\n",
    "# Ensure coverage ratio exists\n",
    "if \"cover\" not in hex_grid.columns:\n",
    "    hex_grid[\"cover\"] = 1.0\n",
    "\n",
    "print(f\"Loaded {len(hex_grid)} hexagonal cells.\")\n",
    "print(f\"hex_id column type: {hex_grid['hex_id'].dtype}\")\n",
    "print(f\"Cover column exists: {'cover' in hex_grid.columns}\")\n",
    "print(hex_grid[['hex_id', 'cover']].head())"
   ],
   "id": "415a98fd67b2ec4d",
   "outputs": [
    {
     "name": "stdout",
     "output_type": "stream",
     "text": [
      "Loaded 1799 hexagonal cells.\n",
      "hex_id column type: int32\n",
      "Cover column exists: True\n",
      "   hex_id     cover\n",
      "0      23  0.925903\n",
      "1      24  0.991823\n",
      "2      25  0.998568\n",
      "3      26  0.984131\n",
      "4      27  0.794481\n"
     ]
    }
   ],
   "execution_count": 3
  },
  {
   "metadata": {
    "ExecuteTime": {
     "end_time": "2025-08-14T18:41:00.895312Z",
     "start_time": "2025-08-14T18:41:00.889784Z"
    }
   },
   "cell_type": "code",
   "source": "print(f\"Loaded {len(hex_grid)} hexagonal cells.\")",
   "id": "a0f5d91b4d2606bc",
   "outputs": [
    {
     "name": "stdout",
     "output_type": "stream",
     "text": [
      "Loaded 1799 hexagonal cells.\n"
     ]
    }
   ],
   "execution_count": 4
  },
  {
   "metadata": {
    "ExecuteTime": {
     "end_time": "2025-08-14T18:41:00.920829Z",
     "start_time": "2025-08-14T18:41:00.911309Z"
    }
   },
   "cell_type": "code",
   "source": "hex_grid.columns",
   "id": "fe2afc10a440a99b",
   "outputs": [
    {
     "data": {
      "text/plain": [
       "Index(['hex_id', 'left', 'top', 'right', 'bottom', 'row_index', 'col_index',\n",
       "       'area_cell', 'area_clip', 'cover', 'geometry'],\n",
       "      dtype='object')"
      ]
     },
     "execution_count": 5,
     "metadata": {},
     "output_type": "execute_result"
    }
   ],
   "execution_count": 5
  },
  {
   "metadata": {
    "ExecuteTime": {
     "end_time": "2025-08-14T18:41:00.943343Z",
     "start_time": "2025-08-14T18:41:00.939941Z"
    }
   },
   "cell_type": "code",
   "source": "",
   "id": "c40ab6cd3341c0e0",
   "outputs": [],
   "execution_count": null
  },
  {
   "metadata": {},
   "cell_type": "markdown",
   "source": "# 1 Zonal Statistics Calculation for Raster Data",
   "id": "73f453ca8230dfe8"
  },
  {
   "metadata": {
    "ExecuteTime": {
     "end_time": "2025-08-14T18:41:00.989035Z",
     "start_time": "2025-08-14T18:41:00.984005Z"
    }
   },
   "cell_type": "code",
   "source": [
    "# Define paths to my raster files\n",
    "pop_raster = 'population_and_id_100m_mgwr04.tif'\n",
    "builtup_raster = 'data/raw/pca/Jaipur_GHSL_built_surface_2020.tif'\n",
    "ndvi_raster = 'data/raw/pca/Jaipur_NDVI_mean_2024.tif'\n",
    "ntl_raster = 'data/raw/pca/Jaipur_VIIRS_DNB_average_2023_2024.tif'"
   ],
   "id": "1dc6f94df1cf570c",
   "outputs": [],
   "execution_count": 6
  },
  {
   "metadata": {},
   "cell_type": "markdown",
   "source": "## 1.1 Population Raster",
   "id": "97a1c7a9d236f999"
  },
  {
   "metadata": {
    "ExecuteTime": {
     "end_time": "2025-08-14T18:41:02.032511Z",
     "start_time": "2025-08-14T18:41:01.015814Z"
    }
   },
   "cell_type": "code",
   "source": [
    "# pop use sum\n",
    "pop_results = exact_extract(pop_raster, hex_grid, 'sum', include_cols='hex_id', output='pandas')\n",
    "pop_results = pop_results[['hex_id', 'band_1_sum']]\n",
    "pop_results.rename(columns={'band_1_sum': 'pop_sum'}, inplace=True)\n",
    "print(\"Population results:\")\n",
    "print(pop_results.head())"
   ],
   "id": "c9902b76b7317571",
   "outputs": [
    {
     "name": "stderr",
     "output_type": "stream",
     "text": [
      "G:\\ProgramData\\anaconda3\\envs\\jaipur\\Lib\\site-packages\\osgeo\\gdal.py:311: FutureWarning: Neither gdal.UseExceptions() nor gdal.DontUseExceptions() has been explicitly called. In GDAL 4.0, exceptions will be enabled by default.\n",
      "  warnings.warn(\n"
     ]
    },
    {
     "name": "stdout",
     "output_type": "stream",
     "text": [
      "Population results:\n",
      "   hex_id     pop_sum\n",
      "0      23  101.298784\n",
      "1      24  344.787011\n",
      "2      25   46.793371\n",
      "3      26   99.160115\n",
      "4      27  128.000000\n"
     ]
    }
   ],
   "execution_count": 7
  },
  {
   "metadata": {},
   "cell_type": "markdown",
   "source": "## 1.2 Built-up Area Raster",
   "id": "eb2afaadcaa8cc47"
  },
  {
   "metadata": {
    "ExecuteTime": {
     "end_time": "2025-08-14T18:41:02.087614Z",
     "start_time": "2025-08-14T18:41:02.053511Z"
    }
   },
   "cell_type": "code",
   "source": [
    "# Open the built-up area raster file\n",
    "with rasterio.open(builtup_raster) as src:\n",
    "    # Display basic metadata\n",
    "    print(f\"Driver: {src.driver}\")\n",
    "    print(f\"Width: {src.width}, Height: {src.height}\")\n",
    "    print(f\"Number of bands: {src.count}\")\n",
    "    print(f\"CRS: {src.crs}\")\n",
    "    print(f\"Transform: {src.transform}\")\n",
    "    print(f\"Data type: {src.dtypes}\")\n",
    "\n",
    "    # Display band-specific information\n",
    "    for i in range(1, src.count + 1):\n",
    "        band = src.read(i)\n",
    "        print(f\"\\nBand {i} statistics:\")\n",
    "        print(f\"  Min: {band.min()}\")\n",
    "        print(f\"  Max: {band.max()}\")\n",
    "        print(f\"  Mean: {band.mean()}\")\n",
    "        print(f\"  No data value: {src.nodatavals[i-1]}\")\n",
    "\n",
    "        # Get band description if available\n",
    "        try:\n",
    "            band_desc = src.descriptions[i-1]\n",
    "            if band_desc:\n",
    "                print(f\"  Description: {band_desc}\")\n",
    "        except:\n",
    "            pass"
   ],
   "id": "1f1d8024cc1a7fd7",
   "outputs": [
    {
     "name": "stdout",
     "output_type": "stream",
     "text": [
      "Driver: GTiff\n",
      "Width: 223, Height: 282\n",
      "Number of bands: 1\n",
      "CRS: EPSG:32643\n",
      "Transform: | 100.00, 0.00, 568300.00|\n",
      "| 0.00,-100.00, 2989600.00|\n",
      "| 0.00, 0.00, 1.00|\n",
      "Data type: ('uint16',)\n",
      "\n",
      "Band 1 statistics:\n",
      "  Min: 0\n",
      "  Max: 9791\n",
      "  Mean: 1704.946188340807\n",
      "  No data value: None\n",
      "  Description: built_surface\n"
     ]
    }
   ],
   "execution_count": 8
  },
  {
   "metadata": {
    "ExecuteTime": {
     "end_time": "2025-08-14T18:41:02.895667Z",
     "start_time": "2025-08-14T18:41:02.106583Z"
    }
   },
   "cell_type": "code",
   "source": [
    "builtup_results = exact_extract(builtup_raster, hex_grid, 'sum', include_cols='hex_id', output='pandas')\n",
    "builtup_results.rename(columns={'sum': 'builtup_sum'}, inplace=True)\n",
    "print(\"\\nBuilt-up results:\")\n",
    "print(builtup_results.head())"
   ],
   "id": "e8751d62435cdfe9",
   "outputs": [
    {
     "name": "stdout",
     "output_type": "stream",
     "text": [
      "\n",
      "Built-up results:\n",
      "   hex_id   builtup_sum\n",
      "0      23  24964.369187\n",
      "1      24  33964.572892\n",
      "2      25   6843.779378\n",
      "3      26  14021.257153\n",
      "4      27  15053.141378\n"
     ]
    }
   ],
   "execution_count": 9
  },
  {
   "metadata": {},
   "cell_type": "markdown",
   "source": "## 1.3 NDVI Raster",
   "id": "bdfb537ea6f0c8fd"
  },
  {
   "metadata": {
    "ExecuteTime": {
     "end_time": "2025-08-14T18:41:02.940505Z",
     "start_time": "2025-08-14T18:41:02.913705Z"
    }
   },
   "cell_type": "code",
   "source": [
    "# Open the NDVI raster file\n",
    "with rasterio.open(ndvi_raster) as src:\n",
    "    # Display basic metadata\n",
    "    print(f\"Driver: {src.driver}\")\n",
    "    print(f\"Width: {src.width}, Height: {src.height}\")\n",
    "    print(f\"Number of bands: {src.count}\")\n",
    "    print(f\"CRS: {src.crs}\")\n",
    "    print(f\"Transform: {src.transform}\")\n",
    "    print(f\"Data type: {src.dtypes}\")\n",
    "\n",
    "    # Display band-specific information\n",
    "    for i in range(1, src.count + 1):\n",
    "        band = src.read(i)\n",
    "        print(f\"\\nBand {i} statistics:\")\n",
    "        print(f\"  Min: {band.min()}\")\n",
    "        print(f\"  Max: {band.max()}\")\n",
    "        print(f\"  Mean: {band.mean()}\")\n",
    "        print(f\"  No data value: {src.nodatavals[i-1]}\")\n",
    "\n",
    "        # Get band description if available\n",
    "        try:\n",
    "            band_desc = src.descriptions[i-1]\n",
    "            if band_desc:\n",
    "                print(f\"  Description: {band_desc}\")\n",
    "        except:\n",
    "            pass"
   ],
   "id": "72880781cd4ab9b9",
   "outputs": [
    {
     "name": "stdout",
     "output_type": "stream",
     "text": [
      "Driver: GTiff\n",
      "Width: 223, Height: 282\n",
      "Number of bands: 1\n",
      "CRS: EPSG:32643\n",
      "Transform: | 100.00, 0.00, 568300.00|\n",
      "| 0.00,-100.00, 2989600.00|\n",
      "| 0.00, 0.00, 1.00|\n",
      "Data type: ('float32',)\n",
      "\n",
      "Band 1 statistics:\n",
      "  Min: nan\n",
      "  Max: nan\n",
      "  Mean: nan\n",
      "  No data value: None\n",
      "  Description: NDVI\n"
     ]
    }
   ],
   "execution_count": 10
  },
  {
   "metadata": {
    "ExecuteTime": {
     "end_time": "2025-08-14T18:41:03.804002Z",
     "start_time": "2025-08-14T18:41:02.958441Z"
    }
   },
   "cell_type": "code",
   "source": [
    "# NDVI use mean\n",
    "ndvi_results = exact_extract(ndvi_raster, hex_grid, 'mean', include_cols='hex_id', output='pandas')\n",
    "ndvi_results.rename(columns={'mean': 'ndvi_mean'}, inplace=True)\n",
    "print(\"\\nNDVI results:\")\n",
    "print(ndvi_results.head())"
   ],
   "id": "178df5f93db857ee",
   "outputs": [
    {
     "name": "stdout",
     "output_type": "stream",
     "text": [
      "\n",
      "NDVI results:\n",
      "   hex_id  ndvi_mean\n",
      "0      23   0.304012\n",
      "1      24   0.288126\n",
      "2      25   0.312536\n",
      "3      26   0.332531\n",
      "4      27   0.311168\n"
     ]
    }
   ],
   "execution_count": 11
  },
  {
   "metadata": {},
   "cell_type": "markdown",
   "source": "# 1.4 Nighttime Lights Raster",
   "id": "d02f3c7bc127f9e3"
  },
  {
   "metadata": {
    "ExecuteTime": {
     "end_time": "2025-08-14T18:41:04.113688Z",
     "start_time": "2025-08-14T18:41:04.083598Z"
    }
   },
   "cell_type": "code",
   "source": [
    "# Open the ntl area raster file\n",
    "with rasterio.open(ntl_raster) as src:\n",
    "    # Display basic metadata\n",
    "    print(f\"Driver: {src.driver}\")\n",
    "    print(f\"Width: {src.width}, Height: {src.height}\")\n",
    "    print(f\"Number of bands: {src.count}\")\n",
    "    print(f\"CRS: {src.crs}\")\n",
    "    print(f\"Transform: {src.transform}\")\n",
    "    print(f\"Data type: {src.dtypes}\")\n",
    "\n",
    "    # Display band-specific information\n",
    "    for i in range(1, src.count + 1):\n",
    "        band = src.read(i)\n",
    "        print(f\"\\nBand {i} statistics:\")\n",
    "        print(f\"  Min: {band.min()}\")\n",
    "        print(f\"  Max: {band.max()}\")\n",
    "        print(f\"  Mean: {band.mean()}\")\n",
    "        print(f\"  No data value: {src.nodatavals[i-1]}\")\n",
    "\n",
    "        # Get band description if available\n",
    "        try:\n",
    "            band_desc = src.descriptions[i-1]\n",
    "            if band_desc:\n",
    "                print(f\"  Description: {band_desc}\")\n",
    "        except:\n",
    "            pass"
   ],
   "id": "2b856dc5600a00cd",
   "outputs": [
    {
     "name": "stdout",
     "output_type": "stream",
     "text": [
      "Driver: GTiff\n",
      "Width: 223, Height: 282\n",
      "Number of bands: 1\n",
      "CRS: EPSG:32643\n",
      "Transform: | 100.00, 0.00, 568300.00|\n",
      "| 0.00,-100.00, 2989600.00|\n",
      "| 0.00, 0.00, 1.00|\n",
      "Data type: ('float32',)\n",
      "\n",
      "Band 1 statistics:\n",
      "  Min: nan\n",
      "  Max: nan\n",
      "  Mean: nan\n",
      "  No data value: None\n",
      "  Description: average\n"
     ]
    }
   ],
   "execution_count": 12
  },
  {
   "metadata": {
    "ExecuteTime": {
     "end_time": "2025-08-14T18:41:05.395548Z",
     "start_time": "2025-08-14T18:41:04.172333Z"
    }
   },
   "cell_type": "code",
   "source": [
    "ntl_results = exact_extract(ntl_raster, hex_grid, 'mean', include_cols='hex_id', output='pandas')\n",
    "ntl_results.rename(columns={'mean': 'ntl_mean'}, inplace=True)\n",
    "print(\"\\nNTL results:\")\n",
    "print(ntl_results.head())"
   ],
   "id": "23e462ab6c7b5f68",
   "outputs": [
    {
     "name": "stdout",
     "output_type": "stream",
     "text": [
      "\n",
      "NTL results:\n",
      "   hex_id   ntl_mean\n",
      "0      23  17.489318\n",
      "1      24  20.017120\n",
      "2      25  14.466437\n",
      "3      26  13.698259\n",
      "4      27  16.072894\n"
     ]
    }
   ],
   "execution_count": 13
  },
  {
   "metadata": {},
   "cell_type": "markdown",
   "source": "# 1.5 Combine Results into a Single DataFrame",
   "id": "bb78a82f27889bed"
  },
  {
   "metadata": {
    "ExecuteTime": {
     "end_time": "2025-08-14T18:41:05.441546Z",
     "start_time": "2025-08-14T18:41:05.415751Z"
    }
   },
   "cell_type": "code",
   "source": [
    "# Merge all results into a single DataFrame called raster_results\n",
    "raster_results = pop_results.merge(builtup_results, on='hex_id', how='outer') \\\n",
    "                             .merge(ndvi_results, on='hex_id', how='outer') \\\n",
    "                             .merge(ntl_results, on='hex_id', how='outer')\n",
    "\n",
    "\n",
    "raster_results['hex_id'] = raster_results['hex_id'].astype('int32')\n",
    "\n",
    "# sort the results by hex_id\n",
    "raster_results = raster_results.sort_values(by='hex_id').reset_index(drop=True)\n",
    "\n",
    "\n",
    "print(\"Merged raster results:\")\n",
    "print(raster_results.head())\n",
    "print(f\"Total records: {len(raster_results)}\")\n",
    "\n"
   ],
   "id": "199492677700b751",
   "outputs": [
    {
     "name": "stdout",
     "output_type": "stream",
     "text": [
      "Merged raster results:\n",
      "   hex_id     pop_sum   builtup_sum  ndvi_mean   ntl_mean\n",
      "0      23  101.298784  24964.369187   0.304012  17.489318\n",
      "1      24  344.787011  33964.572892   0.288126  20.017120\n",
      "2      25   46.793371   6843.779378   0.312536  14.466437\n",
      "3      26   99.160115  14021.257153   0.332531  13.698259\n",
      "4      27  128.000000  15053.141378   0.311168  16.072894\n",
      "Total records: 1799\n"
     ]
    }
   ],
   "execution_count": 14
  },
  {
   "metadata": {
    "ExecuteTime": {
     "end_time": "2025-08-14T18:41:05.507827Z",
     "start_time": "2025-08-14T18:41:05.498546Z"
    }
   },
   "cell_type": "code",
   "source": "raster_results['pop_sum'].describe()",
   "id": "b8dd2d4d6c895ed9",
   "outputs": [
    {
     "data": {
      "text/plain": [
       "count     1799.000000\n",
       "mean      1687.619662\n",
       "std       2285.142491\n",
       "min          0.000000\n",
       "25%        306.405941\n",
       "50%        954.198131\n",
       "75%       2130.758175\n",
       "max      20418.297154\n",
       "Name: pop_sum, dtype: float64"
      ]
     },
     "execution_count": 15,
     "metadata": {},
     "output_type": "execute_result"
    }
   ],
   "execution_count": 15
  },
  {
   "metadata": {
    "ExecuteTime": {
     "end_time": "2025-08-14T18:41:05.539818Z",
     "start_time": "2025-08-14T18:41:05.530851Z"
    }
   },
   "cell_type": "code",
   "source": [
    "# merge hex_grid to get geometry and cover\n",
    "hex_minimal = hex_grid[['hex_id','area_clip', 'cover', 'geometry']].copy()\n",
    "\n",
    "# merge raster and hex grid\n",
    "hex_raster_final = hex_minimal.merge(raster_results, on='hex_id', how='left')\n"
   ],
   "id": "45b6aeb1b3ff920b",
   "outputs": [],
   "execution_count": 16
  },
  {
   "metadata": {
    "ExecuteTime": {
     "end_time": "2025-08-14T18:41:05.643956Z",
     "start_time": "2025-08-14T18:41:05.634254Z"
    }
   },
   "cell_type": "code",
   "source": [
    "# Calculate population density and built-up area density\n",
    "# Note: Not using cover adjustment, directly using pop_sum and builtup_sum (obtained through exact_extract using 'sum')\n",
    "# Population density (people/km2)\n",
    "hex_raster_final['pop_density_km2'] = hex_raster_final['pop_sum'] / (hex_raster_final['area_clip'] / 1000000)\n",
    "# Built-up area density (built-up area ratio, between 0-1)\n",
    "hex_raster_final['builtup_density'] = hex_raster_final['builtup_sum'] / (hex_raster_final['area_clip'] )\n",
    "\n",
    "# Handle potential division by zero\n",
    "import numpy as np\n",
    "hex_raster_final['pop_density_km2'] = np.where(\n",
    "    hex_raster_final['area_clip'] > 0,\n",
    "    hex_raster_final['pop_density_km2'],\n",
    "    0\n",
    ")\n",
    "\n",
    "hex_raster_final['builtup_density'] = np.where(\n",
    "    hex_raster_final['area_clip'] > 0,\n",
    "    hex_raster_final['builtup_density'],\n",
    "    0\n",
    ")\n",
    "\n",
    "# For NDVI and NTL, no additional processing needed\n",
    "# Their values are already means within the city boundary\n",
    "\n",
    "\n",
    "print(f\"\\nFinal dataset shape: {hex_raster_final.shape}\")\n",
    "print(\"Columns:\", list(hex_raster_final.columns))"
   ],
   "id": "7d7172527810b7e7",
   "outputs": [
    {
     "name": "stdout",
     "output_type": "stream",
     "text": [
      "\n",
      "Final dataset shape: (1799, 10)\n",
      "Columns: ['hex_id', 'area_clip', 'cover', 'geometry', 'pop_sum', 'builtup_sum', 'ndvi_mean', 'ntl_mean', 'pop_density_km2', 'builtup_density']\n"
     ]
    }
   ],
   "execution_count": 17
  },
  {
   "metadata": {
    "ExecuteTime": {
     "end_time": "2025-08-14T18:41:05.713997Z",
     "start_time": "2025-08-14T18:41:05.704565Z"
    }
   },
   "cell_type": "code",
   "source": "hex_raster_final['pop_density_km2'].describe()",
   "id": "4c8a6436c73813fb",
   "outputs": [
    {
     "data": {
      "text/plain": [
       "count     1799.000000\n",
       "mean      7831.516479\n",
       "std      10543.329464\n",
       "min          0.000000\n",
       "25%       1457.915917\n",
       "50%       4491.935024\n",
       "75%       9847.504207\n",
       "max      94308.074868\n",
       "Name: pop_density_km2, dtype: float64"
      ]
     },
     "execution_count": 18,
     "metadata": {},
     "output_type": "execute_result"
    }
   ],
   "execution_count": 18
  },
  {
   "metadata": {
    "ExecuteTime": {
     "end_time": "2025-08-14T18:41:05.790822Z",
     "start_time": "2025-08-14T18:41:05.776663Z"
    }
   },
   "cell_type": "code",
   "source": [
    "# make NaN as 0\n",
    "raster_vars = ['pop_density_km2', 'builtup_density', 'ndvi_mean', 'ntl_mean']\n",
    "hex_raster_final[raster_vars] = hex_raster_final[raster_vars].fillna(0)\n",
    "\n",
    "\n",
    "if hex_raster_final.crs != 'EPSG:32643':\n",
    "    hex_raster_final = hex_raster_final.to_crs(32643)\n",
    "\n",
    "print(\"=== Final Raster Dataset Summary ===\")\n",
    "print(f\"Shape: {hex_raster_final.shape}\")\n",
    "print(f\"CRS: {hex_raster_final.crs}\")\n",
    "print(f\"Columns: {list(hex_raster_final.columns)}\")\n",
    "\n",
    "\n",
    "print(\"\\n📈 Raster Variable Summary:\")\n",
    "for var in raster_vars:\n",
    "    mean = hex_raster_final[var].mean()\n",
    "    non_zero = (hex_raster_final[var] > 0).sum()\n",
    "    print(f\"  {var}: mean={mean:.1f}, non-zero hexes={non_zero}\")"
   ],
   "id": "b9ee6b3c305a4356",
   "outputs": [
    {
     "name": "stdout",
     "output_type": "stream",
     "text": [
      "=== Final Raster Dataset Summary ===\n",
      "Shape: (1799, 10)\n",
      "CRS: EPSG:32643\n",
      "Columns: ['hex_id', 'area_clip', 'cover', 'geometry', 'pop_sum', 'builtup_sum', 'ndvi_mean', 'ntl_mean', 'pop_density_km2', 'builtup_density']\n",
      "\n",
      "📈 Raster Variable Summary:\n",
      "  pop_density_km2: mean=7831.5, non-zero hexes=1633\n",
      "  builtup_density: mean=0.3, non-zero hexes=1727\n",
      "  ndvi_mean: mean=0.3, non-zero hexes=1799\n",
      "  ntl_mean: mean=25.0, non-zero hexes=1799\n"
     ]
    }
   ],
   "execution_count": 19
  },
  {
   "metadata": {
    "ExecuteTime": {
     "end_time": "2025-08-14T18:41:05.913263Z",
     "start_time": "2025-08-14T18:41:05.851772Z"
    }
   },
   "cell_type": "code",
   "source": [
    "# export GeoParquet\n",
    "import pathlib\n",
    "output_path = pathlib.Path(\"data/cleaned/pca/jaipur_hex_rasters.parquet\")\n",
    "output_path.parent.mkdir(parents=True, exist_ok=True)\n",
    "\n",
    "hex_raster_final.to_parquet(output_path, index=False)\n",
    "\n",
    "print(f\"\\n✓ Raster aggregation complete → {output_path}\")\n",
    "print(f\"📊 Final dataset: {len(hex_raster_final)} hexes with {len(raster_vars)} raster variables\")"
   ],
   "id": "4928655afe61bc48",
   "outputs": [
    {
     "name": "stdout",
     "output_type": "stream",
     "text": [
      "\n",
      "✓ Raster aggregation complete → data\\cleaned\\pca\\jaipur_hex_rasters.parquet\n",
      "📊 Final dataset: 1799 hexes with 4 raster variables\n"
     ]
    }
   ],
   "execution_count": 20
  },
  {
   "metadata": {
    "ExecuteTime": {
     "end_time": "2025-08-14T18:41:05.934124Z",
     "start_time": "2025-08-14T18:41:05.930799Z"
    }
   },
   "cell_type": "code",
   "source": "",
   "id": "f93f8e8be3c83f6d",
   "outputs": [],
   "execution_count": null
  },
  {
   "metadata": {
    "ExecuteTime": {
     "end_time": "2025-08-14T18:41:05.993847Z",
     "start_time": "2025-08-14T18:41:05.990182Z"
    }
   },
   "cell_type": "code",
   "source": "",
   "id": "c00ea2072dce3bb8",
   "outputs": [],
   "execution_count": null
  },
  {
   "metadata": {
    "ExecuteTime": {
     "end_time": "2025-08-14T18:41:06.009566Z",
     "start_time": "2025-08-14T18:41:06.005763Z"
    }
   },
   "cell_type": "code",
   "source": "",
   "id": "e5b6fb7bbf342710",
   "outputs": [],
   "execution_count": null
  },
  {
   "metadata": {
    "ExecuteTime": {
     "end_time": "2025-08-14T18:41:06.044500Z",
     "start_time": "2025-08-14T18:41:06.041867Z"
    }
   },
   "cell_type": "code",
   "source": "",
   "id": "cf57d74ade54bc8b",
   "outputs": [],
   "execution_count": null
  },
  {
   "metadata": {
    "ExecuteTime": {
     "end_time": "2025-08-14T18:41:06.076050Z",
     "start_time": "2025-08-14T18:41:06.073128Z"
    }
   },
   "cell_type": "code",
   "source": "",
   "id": "705838b5b346b3e8",
   "outputs": [],
   "execution_count": null
  },
  {
   "metadata": {
    "ExecuteTime": {
     "end_time": "2025-08-14T18:41:06.140216Z",
     "start_time": "2025-08-14T18:41:06.136566Z"
    }
   },
   "cell_type": "code",
   "source": "",
   "id": "7ce92834ff205f2d",
   "outputs": [],
   "execution_count": null
  }
 ],
 "metadata": {
  "kernelspec": {
   "display_name": "Python 3",
   "language": "python",
   "name": "python3"
  },
  "language_info": {
   "codemirror_mode": {
    "name": "ipython",
    "version": 2
   },
   "file_extension": ".py",
   "mimetype": "text/x-python",
   "name": "python",
   "nbconvert_exporter": "python",
   "pygments_lexer": "ipython2",
   "version": "2.7.6"
  }
 },
 "nbformat": 4,
 "nbformat_minor": 5
}
