{
 "cells": [
  {
   "cell_type": "code",
   "execution_count": 1,
   "metadata": {
    "ExecuteTime": {
     "end_time": "2025-07-23T01:14:10.864037Z",
     "start_time": "2025-07-23T01:14:10.847038Z"
    }
   },
   "outputs": [],
   "source": [
    "import ee\n",
    "import geemap\n",
    "import os\n",
    "import numpy as np\n",
    "import geopandas as gpd"
   ]
  },
  {
   "cell_type": "code",
   "execution_count": 2,
   "metadata": {
    "ExecuteTime": {
     "end_time": "2025-07-23T01:10:32.983174Z",
     "start_time": "2025-07-23T01:10:32.965899Z"
    }
   },
   "outputs": [
    {
     "data": {
      "text/html": [
       "\n",
       "            <style>\n",
       "                .geemap-dark {\n",
       "                    --jp-widgets-color: white;\n",
       "                    --jp-widgets-label-color: white;\n",
       "                    --jp-ui-font-color1: white;\n",
       "                    --jp-layout-color2: #454545;\n",
       "                    background-color: #383838;\n",
       "                }\n",
       "\n",
       "                .geemap-dark .jupyter-button {\n",
       "                    --jp-layout-color3: #383838;\n",
       "                }\n",
       "\n",
       "                .geemap-colab {\n",
       "                    background-color: var(--colab-primary-surface-color, white);\n",
       "                }\n",
       "\n",
       "                .geemap-colab .jupyter-button {\n",
       "                    --jp-layout-color3: var(--colab-primary-surface-color, white);\n",
       "                }\n",
       "            </style>\n",
       "            "
      ],
      "text/plain": [
       "<IPython.core.display.HTML object>"
      ]
     },
     "metadata": {},
     "output_type": "display_data"
    },
    {
     "data": {
      "text/plain": [
       "'G:\\\\OneDrive\\\\casa0010dissertation\\\\00_06 jaipur code\\\\data_process'"
      ]
     },
     "execution_count": 2,
     "metadata": {},
     "output_type": "execute_result"
    }
   ],
   "source": [
    "os.getcwd()"
   ]
  },
  {
   "cell_type": "code",
   "execution_count": 3,
   "metadata": {},
   "outputs": [
    {
     "data": {
      "text/html": [
       "\n",
       "            <style>\n",
       "                .geemap-dark {\n",
       "                    --jp-widgets-color: white;\n",
       "                    --jp-widgets-label-color: white;\n",
       "                    --jp-ui-font-color1: white;\n",
       "                    --jp-layout-color2: #454545;\n",
       "                    background-color: #383838;\n",
       "                }\n",
       "\n",
       "                .geemap-dark .jupyter-button {\n",
       "                    --jp-layout-color3: #383838;\n",
       "                }\n",
       "\n",
       "                .geemap-colab {\n",
       "                    background-color: var(--colab-primary-surface-color, white);\n",
       "                }\n",
       "\n",
       "                .geemap-colab .jupyter-button {\n",
       "                    --jp-layout-color3: var(--colab-primary-surface-color, white);\n",
       "                }\n",
       "            </style>\n",
       "            "
      ],
      "text/plain": [
       "<IPython.core.display.HTML object>"
      ]
     },
     "metadata": {},
     "output_type": "display_data"
    }
   ],
   "source": [
    "import os\n",
    "os.chdir(\"G:/OneDrive/casa0010dissertation/00_06 jaipur code\")\n"
   ]
  },
  {
   "cell_type": "code",
   "execution_count": 4,
   "metadata": {},
   "outputs": [
    {
     "data": {
      "text/html": [
       "\n",
       "            <style>\n",
       "                .geemap-dark {\n",
       "                    --jp-widgets-color: white;\n",
       "                    --jp-widgets-label-color: white;\n",
       "                    --jp-ui-font-color1: white;\n",
       "                    --jp-layout-color2: #454545;\n",
       "                    background-color: #383838;\n",
       "                }\n",
       "\n",
       "                .geemap-dark .jupyter-button {\n",
       "                    --jp-layout-color3: #383838;\n",
       "                }\n",
       "\n",
       "                .geemap-colab {\n",
       "                    background-color: var(--colab-primary-surface-color, white);\n",
       "                }\n",
       "\n",
       "                .geemap-colab .jupyter-button {\n",
       "                    --jp-layout-color3: var(--colab-primary-surface-color, white);\n",
       "                }\n",
       "            </style>\n",
       "            "
      ],
      "text/plain": [
       "<IPython.core.display.HTML object>"
      ]
     },
     "metadata": {},
     "output_type": "display_data"
    },
    {
     "data": {
      "text/plain": [
       "True"
      ]
     },
     "execution_count": 4,
     "metadata": {},
     "output_type": "execute_result"
    }
   ],
   "source": [
    "ee.Authenticate()"
   ]
  },
  {
   "cell_type": "code",
   "execution_count": 5,
   "metadata": {},
   "outputs": [
    {
     "data": {
      "text/html": [
       "\n",
       "            <style>\n",
       "                .geemap-dark {\n",
       "                    --jp-widgets-color: white;\n",
       "                    --jp-widgets-label-color: white;\n",
       "                    --jp-ui-font-color1: white;\n",
       "                    --jp-layout-color2: #454545;\n",
       "                    background-color: #383838;\n",
       "                }\n",
       "\n",
       "                .geemap-dark .jupyter-button {\n",
       "                    --jp-layout-color3: #383838;\n",
       "                }\n",
       "\n",
       "                .geemap-colab {\n",
       "                    background-color: var(--colab-primary-surface-color, white);\n",
       "                }\n",
       "\n",
       "                .geemap-colab .jupyter-button {\n",
       "                    --jp-layout-color3: var(--colab-primary-surface-color, white);\n",
       "                }\n",
       "            </style>\n",
       "            "
      ],
      "text/plain": [
       "<IPython.core.display.HTML object>"
      ]
     },
     "metadata": {},
     "output_type": "display_data"
    }
   ],
   "source": [
    "ee.Initialize()"
   ]
  },
  {
   "cell_type": "code",
   "execution_count": 25,
   "metadata": {},
   "outputs": [
    {
     "data": {
      "text/html": [
       "\n",
       "            <style>\n",
       "                .geemap-dark {\n",
       "                    --jp-widgets-color: white;\n",
       "                    --jp-widgets-label-color: white;\n",
       "                    --jp-ui-font-color1: white;\n",
       "                    --jp-layout-color2: #454545;\n",
       "                    background-color: #383838;\n",
       "                }\n",
       "\n",
       "                .geemap-dark .jupyter-button {\n",
       "                    --jp-layout-color3: #383838;\n",
       "                }\n",
       "\n",
       "                .geemap-colab {\n",
       "                    background-color: var(--colab-primary-surface-color, white);\n",
       "                }\n",
       "\n",
       "                .geemap-colab .jupyter-button {\n",
       "                    --jp-layout-color3: var(--colab-primary-surface-color, white);\n",
       "                }\n",
       "            </style>\n",
       "            "
      ],
      "text/plain": [
       "<IPython.core.display.HTML object>"
      ]
     },
     "metadata": {},
     "output_type": "display_data"
    },
    {
     "data": {
      "application/vnd.jupyter.widget-view+json": {
       "model_id": "d2afaaab42354009991bf118f4983f11",
       "version_major": 2,
       "version_minor": 0
      },
      "text/plain": [
       "Map(center=[26.9124, 75.7873], controls=(WidgetControl(options=['position', 'transparent_bg'], widget=SearchDa…"
      ]
     },
     "execution_count": 25,
     "metadata": {},
     "output_type": "execute_result"
    }
   ],
   "source": [
    "Map = geemap.Map()\n",
    "Map.set_center(75.7873, 26.9124, 10)\n",
    "Map"
   ]
  },
  {
   "cell_type": "code",
   "execution_count": 8,
   "metadata": {},
   "outputs": [
    {
     "data": {
      "text/html": [
       "\n",
       "            <style>\n",
       "                .geemap-dark {\n",
       "                    --jp-widgets-color: white;\n",
       "                    --jp-widgets-label-color: white;\n",
       "                    --jp-ui-font-color1: white;\n",
       "                    --jp-layout-color2: #454545;\n",
       "                    background-color: #383838;\n",
       "                }\n",
       "\n",
       "                .geemap-dark .jupyter-button {\n",
       "                    --jp-layout-color3: #383838;\n",
       "                }\n",
       "\n",
       "                .geemap-colab {\n",
       "                    background-color: var(--colab-primary-surface-color, white);\n",
       "                }\n",
       "\n",
       "                .geemap-colab .jupyter-button {\n",
       "                    --jp-layout-color3: var(--colab-primary-surface-color, white);\n",
       "                }\n",
       "            </style>\n",
       "            "
      ],
      "text/plain": [
       "<IPython.core.display.HTML object>"
      ]
     },
     "metadata": {},
     "output_type": "display_data"
    },
    {
     "name": "stdout",
     "output_type": "stream",
     "text": [
      "Original CRS: EPSG:32643\n",
      "This is UTM Zone 43N for India - perfect for Jaipur!\n"
     ]
    }
   ],
   "source": [
    "# Define AOI\n",
    "# Load the ward dataset\n",
    "\n",
    "url = \"data/raw/JMC_all_v2.geojson\"\n",
    "wards = gpd.read_file(url)\n",
    "# Check the current CRS\n",
    "print(\"Original CRS:\", wards.crs)\n",
    "print(\"This is UTM Zone 43N for India - perfect for Jaipur!\")"
   ]
  },
  {
   "cell_type": "code",
   "execution_count": 9,
   "metadata": {},
   "outputs": [
    {
     "data": {
      "text/html": [
       "\n",
       "            <style>\n",
       "                .geemap-dark {\n",
       "                    --jp-widgets-color: white;\n",
       "                    --jp-widgets-label-color: white;\n",
       "                    --jp-ui-font-color1: white;\n",
       "                    --jp-layout-color2: #454545;\n",
       "                    background-color: #383838;\n",
       "                }\n",
       "\n",
       "                .geemap-dark .jupyter-button {\n",
       "                    --jp-layout-color3: #383838;\n",
       "                }\n",
       "\n",
       "                .geemap-colab {\n",
       "                    background-color: var(--colab-primary-surface-color, white);\n",
       "                }\n",
       "\n",
       "                .geemap-colab .jupyter-button {\n",
       "                    --jp-layout-color3: var(--colab-primary-surface-color, white);\n",
       "                }\n",
       "            </style>\n",
       "            "
      ],
      "text/plain": [
       "<IPython.core.display.HTML object>"
      ]
     },
     "metadata": {},
     "output_type": "display_data"
    }
   ],
   "source": [
    "# Convert to Earth Engine FeatureCollection\n",
    "# geemap.geopandas_to_ee() will automatically handle the CRS conversion to WGS84\n",
    "ee_wards = geemap.geopandas_to_ee(wards, geodesic=False)"
   ]
  },
  {
   "cell_type": "code",
   "execution_count": 10,
   "metadata": {},
   "outputs": [
    {
     "data": {
      "text/html": [
       "\n",
       "            <style>\n",
       "                .geemap-dark {\n",
       "                    --jp-widgets-color: white;\n",
       "                    --jp-widgets-label-color: white;\n",
       "                    --jp-ui-font-color1: white;\n",
       "                    --jp-layout-color2: #454545;\n",
       "                    background-color: #383838;\n",
       "                }\n",
       "\n",
       "                .geemap-dark .jupyter-button {\n",
       "                    --jp-layout-color3: #383838;\n",
       "                }\n",
       "\n",
       "                .geemap-colab {\n",
       "                    background-color: var(--colab-primary-surface-color, white);\n",
       "                }\n",
       "\n",
       "                .geemap-colab .jupyter-button {\n",
       "                    --jp-layout-color3: var(--colab-primary-surface-color, white);\n",
       "                }\n",
       "            </style>\n",
       "            "
      ],
      "text/plain": [
       "<IPython.core.display.HTML object>"
      ]
     },
     "metadata": {},
     "output_type": "display_data"
    }
   ],
   "source": [
    "# Add filtered wards to map\n",
    "Map.addLayer(\n",
    "ee_wards,\n",
    "{ 'color': \"1e90ff\", 'width': 2, 'fillColor': \"00000000\" },\n",
    "\"Jaipur Wards\"\n",
    ")"
   ]
  },
  {
   "cell_type": "code",
   "execution_count": 11,
   "metadata": {},
   "outputs": [
    {
     "data": {
      "text/html": [
       "\n",
       "            <style>\n",
       "                .geemap-dark {\n",
       "                    --jp-widgets-color: white;\n",
       "                    --jp-widgets-label-color: white;\n",
       "                    --jp-ui-font-color1: white;\n",
       "                    --jp-layout-color2: #454545;\n",
       "                    background-color: #383838;\n",
       "                }\n",
       "\n",
       "                .geemap-dark .jupyter-button {\n",
       "                    --jp-layout-color3: #383838;\n",
       "                }\n",
       "\n",
       "                .geemap-colab {\n",
       "                    background-color: var(--colab-primary-surface-color, white);\n",
       "                }\n",
       "\n",
       "                .geemap-colab .jupyter-button {\n",
       "                    --jp-layout-color3: var(--colab-primary-surface-color, white);\n",
       "                }\n",
       "            </style>\n",
       "            "
      ],
      "text/plain": [
       "<IPython.core.display.HTML object>"
      ]
     },
     "metadata": {},
     "output_type": "display_data"
    },
    {
     "name": "stdout",
     "output_type": "stream",
     "text": [
      "AOI defined from Jaipur wards GeoJSON\n"
     ]
    }
   ],
   "source": [
    "# Get the geometry for AOI (union of all wards)\n",
    "aoi = ee_wards.geometry()\n",
    "print(\"AOI defined from Jaipur wards GeoJSON\")"
   ]
  },
  {
   "cell_type": "code",
   "execution_count": 12,
   "metadata": {},
   "outputs": [
    {
     "data": {
      "text/html": [
       "\n",
       "            <style>\n",
       "                .geemap-dark {\n",
       "                    --jp-widgets-color: white;\n",
       "                    --jp-widgets-label-color: white;\n",
       "                    --jp-ui-font-color1: white;\n",
       "                    --jp-layout-color2: #454545;\n",
       "                    background-color: #383838;\n",
       "                }\n",
       "\n",
       "                .geemap-dark .jupyter-button {\n",
       "                    --jp-layout-color3: #383838;\n",
       "                }\n",
       "\n",
       "                .geemap-colab {\n",
       "                    background-color: var(--colab-primary-surface-color, white);\n",
       "                }\n",
       "\n",
       "                .geemap-colab .jupyter-button {\n",
       "                    --jp-layout-color3: var(--colab-primary-surface-color, white);\n",
       "                }\n",
       "            </style>\n",
       "            "
      ],
      "text/plain": [
       "<IPython.core.display.HTML object>"
      ]
     },
     "metadata": {},
     "output_type": "display_data"
    },
    {
     "name": "stdout",
     "output_type": "stream",
     "text": [
      "GHSL dataset loaded (2018 data)\n"
     ]
    }
   ],
   "source": [
    "# Load GHSL Built-up Characteristics dataset\n",
    "# GHSL data is from 2018 (latest available)\n",
    "ghsl = ee.Image(\"JRC/GHSL/P2023A/GHS_BUILT_C/2018\").select('built_characteristics').clip(aoi)\n",
    "\n",
    "print(\"GHSL dataset loaded (2018 data)\")"
   ]
  },
  {
   "cell_type": "code",
   "execution_count": 13,
   "metadata": {},
   "outputs": [
    {
     "data": {
      "text/html": [
       "\n",
       "            <style>\n",
       "                .geemap-dark {\n",
       "                    --jp-widgets-color: white;\n",
       "                    --jp-widgets-label-color: white;\n",
       "                    --jp-ui-font-color1: white;\n",
       "                    --jp-layout-color2: #454545;\n",
       "                    background-color: #383838;\n",
       "                }\n",
       "\n",
       "                .geemap-dark .jupyter-button {\n",
       "                    --jp-layout-color3: #383838;\n",
       "                }\n",
       "\n",
       "                .geemap-colab {\n",
       "                    background-color: var(--colab-primary-surface-color, white);\n",
       "                }\n",
       "\n",
       "                .geemap-colab .jupyter-button {\n",
       "                    --jp-layout-color3: var(--colab-primary-surface-color, white);\n",
       "                }\n",
       "            </style>\n",
       "            "
      ],
      "text/plain": [
       "<IPython.core.display.HTML object>"
      ]
     },
     "metadata": {},
     "output_type": "display_data"
    },
    {
     "name": "stdout",
     "output_type": "stream",
     "text": [
      "VIIRS dataset loaded (2023 annual data)\n"
     ]
    }
   ],
   "source": [
    "# Load VIIRS Nighttime Lights dataset\n",
    "viirs_collection = ee.ImageCollection('NOAA/VIIRS/DNB/ANNUAL_V22') \\\n",
    "                     .filter(ee.Filter.date('2023-01-01', '2024-01-01')) \\\n",
    "                     .filterBounds(aoi)\n",
    "\n",
    "viirs = viirs_collection.select('average').first().clip(aoi)\n",
    "\n",
    "print(\"VIIRS dataset loaded (2023 annual data)\")"
   ]
  },
  {
   "cell_type": "code",
   "execution_count": 14,
   "metadata": {},
   "outputs": [
    {
     "data": {
      "text/html": [
       "\n",
       "            <style>\n",
       "                .geemap-dark {\n",
       "                    --jp-widgets-color: white;\n",
       "                    --jp-widgets-label-color: white;\n",
       "                    --jp-ui-font-color1: white;\n",
       "                    --jp-layout-color2: #454545;\n",
       "                    background-color: #383838;\n",
       "                }\n",
       "\n",
       "                .geemap-dark .jupyter-button {\n",
       "                    --jp-layout-color3: #383838;\n",
       "                }\n",
       "\n",
       "                .geemap-colab {\n",
       "                    background-color: var(--colab-primary-surface-color, white);\n",
       "                }\n",
       "\n",
       "                .geemap-colab .jupyter-button {\n",
       "                    --jp-layout-color3: var(--colab-primary-surface-color, white);\n",
       "                }\n",
       "            </style>\n",
       "            "
      ],
      "text/plain": [
       "<IPython.core.display.HTML object>"
      ]
     },
     "metadata": {},
     "output_type": "display_data"
    },
    {
     "name": "stdout",
     "output_type": "stream",
     "text": [
      "Residential mask created (GHSL classes 11-15)\n"
     ]
    }
   ],
   "source": [
    "# Create residential mask (classes 11-15 are residential buildings)\n",
    "residential_mask = ghsl.gte(11).And(ghsl.lte(15))\n",
    "print(\"Residential mask created (GHSL classes 11-15)\")"
   ]
  },
  {
   "cell_type": "code",
   "execution_count": 15,
   "metadata": {},
   "outputs": [
    {
     "data": {
      "text/html": [
       "\n",
       "            <style>\n",
       "                .geemap-dark {\n",
       "                    --jp-widgets-color: white;\n",
       "                    --jp-widgets-label-color: white;\n",
       "                    --jp-ui-font-color1: white;\n",
       "                    --jp-layout-color2: #454545;\n",
       "                    background-color: #383838;\n",
       "                }\n",
       "\n",
       "                .geemap-dark .jupyter-button {\n",
       "                    --jp-layout-color3: #383838;\n",
       "                }\n",
       "\n",
       "                .geemap-colab {\n",
       "                    background-color: var(--colab-primary-surface-color, white);\n",
       "                }\n",
       "\n",
       "                .geemap-colab .jupyter-button {\n",
       "                    --jp-layout-color3: var(--colab-primary-surface-color, white);\n",
       "                }\n",
       "            </style>\n",
       "            "
      ],
      "text/plain": [
       "<IPython.core.display.HTML object>"
      ]
     },
     "metadata": {},
     "output_type": "display_data"
    },
    {
     "name": "stdout",
     "output_type": "stream",
     "text": [
      "Height mapping completed\n"
     ]
    }
   ],
   "source": [
    "# Map GHSL classes to building heights\n",
    "# Class 11: ≤3m -> 1.5m average\n",
    "# Class 12: 3-6m -> 4.5m average  \n",
    "# Class 13: 6-15m -> 10.5m average\n",
    "# Class 14: 15-30m -> 22.5m average\n",
    "# Class 15: >30m -> 35m average\n",
    "height_map = ee.Image(0) \\\n",
    "    .where(ghsl.eq(11), 1.5) \\\n",
    "    .where(ghsl.eq(12), 4.5) \\\n",
    "    .where(ghsl.eq(13), 10.5) \\\n",
    "    .where(ghsl.eq(14), 22.5) \\\n",
    "    .where(ghsl.eq(15), 35)\n",
    "print(\"Height mapping completed\")"
   ]
  },
  {
   "cell_type": "code",
   "execution_count": 16,
   "metadata": {},
   "outputs": [
    {
     "data": {
      "text/html": [
       "\n",
       "            <style>\n",
       "                .geemap-dark {\n",
       "                    --jp-widgets-color: white;\n",
       "                    --jp-widgets-label-color: white;\n",
       "                    --jp-ui-font-color1: white;\n",
       "                    --jp-layout-color2: #454545;\n",
       "                    background-color: #383838;\n",
       "                }\n",
       "\n",
       "                .geemap-dark .jupyter-button {\n",
       "                    --jp-layout-color3: #383838;\n",
       "                }\n",
       "\n",
       "                .geemap-colab {\n",
       "                    background-color: var(--colab-primary-surface-color, white);\n",
       "                }\n",
       "\n",
       "                .geemap-colab .jupyter-button {\n",
       "                    --jp-layout-color3: var(--colab-primary-surface-color, white);\n",
       "                }\n",
       "            </style>\n",
       "            "
      ],
      "text/plain": [
       "<IPython.core.display.HTML object>"
      ]
     },
     "metadata": {},
     "output_type": "display_data"
    },
    {
     "name": "stdout",
     "output_type": "stream",
     "text": [
      "Residential volume calculated (m³)\n"
     ]
    }
   ],
   "source": [
    "# Calculate residential volume (height * pixel area)\n",
    "pixel_area = 100  # 10m x 10m pixels = 100 m²\n",
    "residential_volume = height_map.multiply(pixel_area).updateMask(residential_mask)\n",
    "print(\"Residential volume calculated (m³)\")"
   ]
  },
  {
   "cell_type": "code",
   "execution_count": 17,
   "metadata": {},
   "outputs": [
    {
     "data": {
      "text/html": [
       "\n",
       "            <style>\n",
       "                .geemap-dark {\n",
       "                    --jp-widgets-color: white;\n",
       "                    --jp-widgets-label-color: white;\n",
       "                    --jp-ui-font-color1: white;\n",
       "                    --jp-layout-color2: #454545;\n",
       "                    background-color: #383838;\n",
       "                }\n",
       "\n",
       "                .geemap-dark .jupyter-button {\n",
       "                    --jp-layout-color3: #383838;\n",
       "                }\n",
       "\n",
       "                .geemap-colab {\n",
       "                    background-color: var(--colab-primary-surface-color, white);\n",
       "                }\n",
       "\n",
       "                .geemap-colab .jupyter-button {\n",
       "                    --jp-layout-color3: var(--colab-primary-surface-color, white);\n",
       "                }\n",
       "            </style>\n",
       "            "
      ],
      "text/plain": [
       "<IPython.core.display.HTML object>"
      ]
     },
     "metadata": {},
     "output_type": "display_data"
    },
    {
     "name": "stdout",
     "output_type": "stream",
     "text": [
      "Using simple >0 threshold for illumination detection\n"
     ]
    }
   ],
   "source": [
    "# Define illumination threshold\n",
    "# Simple binary classification: any light detected (>0) vs no light (=0)\n",
    "illumination_threshold = 0\n",
    "print(\"Using simple >0 threshold for illumination detection\")"
   ]
  },
  {
   "cell_type": "code",
   "execution_count": 18,
   "metadata": {},
   "outputs": [
    {
     "data": {
      "text/html": [
       "\n",
       "            <style>\n",
       "                .geemap-dark {\n",
       "                    --jp-widgets-color: white;\n",
       "                    --jp-widgets-label-color: white;\n",
       "                    --jp-ui-font-color1: white;\n",
       "                    --jp-layout-color2: #454545;\n",
       "                    background-color: #383838;\n",
       "                }\n",
       "\n",
       "                .geemap-dark .jupyter-button {\n",
       "                    --jp-layout-color3: #383838;\n",
       "                }\n",
       "\n",
       "                .geemap-colab {\n",
       "                    background-color: var(--colab-primary-surface-color, white);\n",
       "                }\n",
       "\n",
       "                .geemap-colab .jupyter-button {\n",
       "                    --jp-layout-color3: var(--colab-primary-surface-color, white);\n",
       "                }\n",
       "            </style>\n",
       "            "
      ],
      "text/plain": [
       "<IPython.core.display.HTML object>"
      ]
     },
     "metadata": {},
     "output_type": "display_data"
    },
    {
     "name": "stdout",
     "output_type": "stream",
     "text": [
      "Illumination mask created\n"
     ]
    }
   ],
   "source": [
    "# Create illumination mask\n",
    "# Earth Engine will automatically handle projection when combining datasets\n",
    "illuminated_mask = viirs.gt(illumination_threshold)\n",
    "print(\"Illumination mask created\")"
   ]
  },
  {
   "cell_type": "code",
   "execution_count": 19,
   "metadata": {},
   "outputs": [
    {
     "data": {
      "text/html": [
       "\n",
       "            <style>\n",
       "                .geemap-dark {\n",
       "                    --jp-widgets-color: white;\n",
       "                    --jp-widgets-label-color: white;\n",
       "                    --jp-ui-font-color1: white;\n",
       "                    --jp-layout-color2: #454545;\n",
       "                    background-color: #383838;\n",
       "                }\n",
       "\n",
       "                .geemap-dark .jupyter-button {\n",
       "                    --jp-layout-color3: #383838;\n",
       "                }\n",
       "\n",
       "                .geemap-colab {\n",
       "                    background-color: var(--colab-primary-surface-color, white);\n",
       "                }\n",
       "\n",
       "                .geemap-colab .jupyter-button {\n",
       "                    --jp-layout-color3: var(--colab-primary-surface-color, white);\n",
       "                }\n",
       "            </style>\n",
       "            "
      ],
      "text/plain": [
       "<IPython.core.display.HTML object>"
      ]
     },
     "metadata": {},
     "output_type": "display_data"
    },
    {
     "name": "stdout",
     "output_type": "stream",
     "text": [
      "Layer 1 created: Illuminated residential volume\n",
      "Layer 2 created: Unilluminated residential volume\n"
     ]
    }
   ],
   "source": [
    "# Create Layer 1 - Illuminated residential volume\n",
    "illuminated_residential_volume = residential_volume.updateMask(\n",
    "    residential_mask.And(illuminated_mask)\n",
    ").rename('illuminated_residential_volume')\n",
    "\n",
    "print(\"Layer 1 created: Illuminated residential volume\")\n",
    "\n",
    "# Create Layer 2 - Unilluminated residential volume\n",
    "unilluminated_residential_volume = residential_volume.updateMask(\n",
    "    residential_mask.And(illuminated_mask.Not())\n",
    ").rename('unilluminated_residential_volume')\n",
    "\n",
    "print(\"Layer 2 created: Unilluminated residential volume\")"
   ]
  },
  {
   "cell_type": "code",
   "execution_count": 20,
   "metadata": {},
   "outputs": [
    {
     "data": {
      "text/html": [
       "\n",
       "            <style>\n",
       "                .geemap-dark {\n",
       "                    --jp-widgets-color: white;\n",
       "                    --jp-widgets-label-color: white;\n",
       "                    --jp-ui-font-color1: white;\n",
       "                    --jp-layout-color2: #454545;\n",
       "                    background-color: #383838;\n",
       "                }\n",
       "\n",
       "                .geemap-dark .jupyter-button {\n",
       "                    --jp-layout-color3: #383838;\n",
       "                }\n",
       "\n",
       "                .geemap-colab {\n",
       "                    background-color: var(--colab-primary-surface-color, white);\n",
       "                }\n",
       "\n",
       "                .geemap-colab .jupyter-button {\n",
       "                    --jp-layout-color3: var(--colab-primary-surface-color, white);\n",
       "                }\n",
       "            </style>\n",
       "            "
      ],
      "text/plain": [
       "<IPython.core.display.HTML object>"
      ]
     },
     "metadata": {},
     "output_type": "display_data"
    },
    {
     "name": "stdout",
     "output_type": "stream",
     "text": [
      "Layer 3 created: Residential light intensity\n"
     ]
    }
   ],
   "source": [
    "# Create Layer 3 - Nighttime light intensity of residential areas\n",
    "residential_light_intensity = viirs.updateMask(\n",
    "    residential_mask\n",
    ").rename('residential_light_intensity')\n",
    "\n",
    "print(\"Layer 3 created: Residential light intensity\")"
   ]
  },
  {
   "cell_type": "code",
   "execution_count": 21,
   "metadata": {},
   "outputs": [
    {
     "data": {
      "text/html": [
       "\n",
       "            <style>\n",
       "                .geemap-dark {\n",
       "                    --jp-widgets-color: white;\n",
       "                    --jp-widgets-label-color: white;\n",
       "                    --jp-ui-font-color1: white;\n",
       "                    --jp-layout-color2: #454545;\n",
       "                    background-color: #383838;\n",
       "                }\n",
       "\n",
       "                .geemap-dark .jupyter-button {\n",
       "                    --jp-layout-color3: #383838;\n",
       "                }\n",
       "\n",
       "                .geemap-colab {\n",
       "                    background-color: var(--colab-primary-surface-color, white);\n",
       "                }\n",
       "\n",
       "                .geemap-colab .jupyter-button {\n",
       "                    --jp-layout-color3: var(--colab-primary-surface-color, white);\n",
       "                }\n",
       "            </style>\n",
       "            "
      ],
      "text/plain": [
       "<IPython.core.display.HTML object>"
      ]
     },
     "metadata": {},
     "output_type": "display_data"
    },
    {
     "name": "stdout",
     "output_type": "stream",
     "text": [
      "Visualization parameters defined with monochromatic gradients\n"
     ]
    }
   ],
   "source": [
    "# Define visualization parameters\n",
    "ghsl_vis = {\n",
    "    'min': 1, 'max': 25,\n",
    "    'palette': [\n",
    "        '#718c6c',  # 1: open spaces, low vegetation\n",
    "        '#8ad86b',  # 2: open spaces, medium vegetation  \n",
    "        '#c1ffa1',  # 3: open spaces, high vegetation\n",
    "        '#01b7ff',  # 4: open spaces, water\n",
    "        '#ffd501',  # 5: open spaces, road\n",
    "        '#d28200',  # 11: residential ≤3m\n",
    "        '#fe5900',  # 12: residential 3-6m\n",
    "        '#ff0101',  # 13: residential 6-15m  \n",
    "        '#ce001b',  # 14: residential 15-30m\n",
    "        '#7a000a',  # 15: residential >30m\n",
    "        '#ff9ff4',  # 21: non-residential ≤3m\n",
    "        '#ff67e4',  # 22: non-residential 3-6m\n",
    "        '#f701ff',  # 23: non-residential 6-15m\n",
    "        '#a601ff',  # 24: non-residential 15-30m  \n",
    "        '#6e00fe'   # 25: non-residential >30m\n",
    "    ]\n",
    "}\n",
    "\n",
    "# Volume visualization - Blue gradient (light to dark)\n",
    "volume_vis = {\n",
    "    'min': 150, 'max': 3500,  # Will be updated after checking data range\n",
    "    'palette': [\n",
    "        '#f7fbff',  # Very light blue\n",
    "        '#deebf7',  # Light blue\n",
    "        '#c6dbef',  # \n",
    "        '#9ecae1',  # \n",
    "        '#6baed6',  # Medium blue\n",
    "        '#4292c6',  # \n",
    "        '#2171b5',  # \n",
    "        '#08519c',  # \n",
    "        '#08306b'   # Dark blue\n",
    "    ]\n",
    "}\n",
    "\n",
    "# Light intensity visualization - Red gradient (light to dark)\n",
    "light_vis = {\n",
    "    'min': 2, 'max': 79,  # Will be updated after checking data range\n",
    "    'palette': [\n",
    "        '#fff5f0',  # Very light red\n",
    "        '#fee0d2',  # Light red\n",
    "        '#fcbba1',  # \n",
    "        '#fc9272',  # \n",
    "        '#fb6a4a',  # Medium red\n",
    "        '#ef3b2c',  # \n",
    "        '#cb181d',  # \n",
    "        '#a50f15',  # \n",
    "        '#67000d'   # Dark red\n",
    "    ]\n",
    "}\n",
    "\n",
    "print(\"Visualization parameters defined with monochromatic gradients\")\n"
   ]
  },
  {
   "cell_type": "code",
   "execution_count": 27,
   "metadata": {},
   "outputs": [
    {
     "data": {
      "text/html": [
       "\n",
       "            <style>\n",
       "                .geemap-dark {\n",
       "                    --jp-widgets-color: white;\n",
       "                    --jp-widgets-label-color: white;\n",
       "                    --jp-ui-font-color1: white;\n",
       "                    --jp-layout-color2: #454545;\n",
       "                    background-color: #383838;\n",
       "                }\n",
       "\n",
       "                .geemap-dark .jupyter-button {\n",
       "                    --jp-layout-color3: #383838;\n",
       "                }\n",
       "\n",
       "                .geemap-colab {\n",
       "                    background-color: var(--colab-primary-surface-color, white);\n",
       "                }\n",
       "\n",
       "                .geemap-colab .jupyter-button {\n",
       "                    --jp-layout-color3: var(--colab-primary-surface-color, white);\n",
       "                }\n",
       "            </style>\n",
       "            "
      ],
      "text/plain": [
       "<IPython.core.display.HTML object>"
      ]
     },
     "metadata": {},
     "output_type": "display_data"
    },
    {
     "name": "stdout",
     "output_type": "stream",
     "text": [
      "Layers added to map\n",
      "Legend added\n"
     ]
    },
    {
     "data": {
      "application/vnd.jupyter.widget-view+json": {
       "model_id": "d2afaaab42354009991bf118f4983f11",
       "version_major": 2,
       "version_minor": 0
      },
      "text/plain": [
       "Map(bottom=55754.0, center=[26.672039413635783, 75.90362438569473], controls=(WidgetControl(options=['position…"
      ]
     },
     "execution_count": 27,
     "metadata": {},
     "output_type": "execute_result"
    }
   ],
   "source": [
    "Map.addLayer(ghsl, ghsl_vis, 'GHSL Built Characteristics')\n",
    "Map.addLayer(viirs, light_vis, 'VIIRS Nighttime Lights')\n",
    "Map.addLayer(illuminated_residential_volume, volume_vis, 'Illuminated Residential Volume')\n",
    "Map.addLayer(unilluminated_residential_volume, volume_vis, 'Unilluminated Residential Volume') \n",
    "Map.addLayer(residential_light_intensity, light_vis, 'Residential Light Intensity')\n",
    "\n",
    "print(\"Layers added to map\")\n",
    "\n",
    "# Step 17: Add legend\n",
    "legend_dict = {\n",
    "    'Open spaces': '#718c6c',\n",
    "    'Residential ≤3m': '#d28200',\n",
    "    'Residential 3-6m': '#fe5900', \n",
    "    'Residential 6-15m': '#ff0101',\n",
    "    'Residential 15-30m': '#ce001b',\n",
    "    'Residential >30m': '#7a000a',\n",
    "    'Non-residential': '#ff9ff4'\n",
    "}\n",
    "\n",
    "Map.add_legend(title=\"GHSL Building Classes\", legend_dict=legend_dict)\n",
    "print(\"Legend added\")\n",
    "\n",
    "# Step 18: Display the map\n",
    "Map"
   ]
  },
  {
   "cell_type": "code",
   "execution_count": 26,
   "metadata": {},
   "outputs": [
    {
     "data": {
      "text/html": [
       "\n",
       "            <style>\n",
       "                .geemap-dark {\n",
       "                    --jp-widgets-color: white;\n",
       "                    --jp-widgets-label-color: white;\n",
       "                    --jp-ui-font-color1: white;\n",
       "                    --jp-layout-color2: #454545;\n",
       "                    background-color: #383838;\n",
       "                }\n",
       "\n",
       "                .geemap-dark .jupyter-button {\n",
       "                    --jp-layout-color3: #383838;\n",
       "                }\n",
       "\n",
       "                .geemap-colab {\n",
       "                    background-color: var(--colab-primary-surface-color, white);\n",
       "                }\n",
       "\n",
       "                .geemap-colab .jupyter-button {\n",
       "                    --jp-layout-color3: var(--colab-primary-surface-color, white);\n",
       "                }\n",
       "            </style>\n",
       "            "
      ],
      "text/plain": [
       "<IPython.core.display.HTML object>"
      ]
     },
     "metadata": {},
     "output_type": "display_data"
    },
    {
     "name": "stdout",
     "output_type": "stream",
     "text": [
      "\n",
      "=== CHECKING DATA RANGES FOR ALL 5 LAYERS ===\n",
      "1. GHSL Built Characteristics:\n",
      "   Range: {'built_characteristics_max': 24, 'built_characteristics_min': 0}\n",
      "2. VIIRS Nighttime Lights:\n",
      "   Range: {'average_max': 78.00666046142578, 'average_min': 1.9543238878250122}\n",
      "3. Illuminated Residential Volume:\n",
      "   Range: {'illuminated_residential_volume_max': 3500, 'illuminated_residential_volume_min': 150}\n",
      "4. Unilluminated Residential Volume:\n",
      "   Range: {'unilluminated_residential_volume_max': None, 'unilluminated_residential_volume_min': None}\n",
      "5. Residential Light Intensity:\n",
      "   Range: {'residential_light_intensity_max': 78.00666046142578, 'residential_light_intensity_min': 2.2137434482574463}\n",
      "\n",
      "=== USE THESE RANGES TO UPDATE VISUALIZATION PARAMETERS ===\n",
      "Copy the max values above and update the 'max' values in volume_vis and light_vis\n"
     ]
    }
   ],
   "source": [
    "# Step 22: Check data ranges for all 5 layers and update visualization parameters\n",
    "print(\"\\n=== CHECKING DATA RANGES FOR ALL 5 LAYERS ===\")\n",
    "\n",
    "# 1. GHSL Built Characteristics\n",
    "print(\"1. GHSL Built Characteristics:\")\n",
    "ghsl_range = ghsl.reduceRegion(\n",
    "    reducer=ee.Reducer.minMax(),\n",
    "    geometry=aoi,\n",
    "    scale=10,\n",
    "    maxPixels=1e8\n",
    ")\n",
    "print(\"   Range:\", ghsl_range.getInfo())\n",
    "\n",
    "# 2. VIIRS Nighttime Lights\n",
    "print(\"2. VIIRS Nighttime Lights:\")\n",
    "viirs_range = viirs.reduceRegion(\n",
    "    reducer=ee.Reducer.minMax(),\n",
    "    geometry=aoi,\n",
    "    scale=500,\n",
    "    maxPixels=1e8\n",
    ")\n",
    "print(\"   Range:\", viirs_range.getInfo())\n",
    "\n",
    "# 3. Illuminated Residential Volume\n",
    "print(\"3. Illuminated Residential Volume:\")\n",
    "illum_volume_range = illuminated_residential_volume.reduceRegion(\n",
    "    reducer=ee.Reducer.minMax(),\n",
    "    geometry=aoi,\n",
    "    scale=10,\n",
    "    maxPixels=1e8\n",
    ")\n",
    "print(\"   Range:\", illum_volume_range.getInfo())\n",
    "\n",
    "# 4. Unilluminated Residential Volume\n",
    "print(\"4. Unilluminated Residential Volume:\")\n",
    "unillum_volume_range = unilluminated_residential_volume.reduceRegion(\n",
    "    reducer=ee.Reducer.minMax(),\n",
    "    geometry=aoi,\n",
    "    scale=10,\n",
    "    maxPixels=1e8\n",
    ")\n",
    "print(\"   Range:\", unillum_volume_range.getInfo())\n",
    "\n",
    "# 5. Residential Light Intensity\n",
    "print(\"5. Residential Light Intensity:\")\n",
    "res_light_range = residential_light_intensity.reduceRegion(\n",
    "    reducer=ee.Reducer.minMax(),\n",
    "    geometry=aoi,\n",
    "    scale=10,\n",
    "    maxPixels=1e8\n",
    ")\n",
    "print(\"   Range:\", res_light_range.getInfo())\n",
    "\n",
    "print(\"\\n=== USE THESE RANGES TO UPDATE VISUALIZATION PARAMETERS ===\")\n",
    "print(\"Copy the max values above and update the 'max' values in volume_vis and light_vis\")"
   ]
  },
  {
   "cell_type": "code",
   "execution_count": 24,
   "metadata": {},
   "outputs": [
    {
     "data": {
      "text/html": [
       "\n",
       "            <style>\n",
       "                .geemap-dark {\n",
       "                    --jp-widgets-color: white;\n",
       "                    --jp-widgets-label-color: white;\n",
       "                    --jp-ui-font-color1: white;\n",
       "                    --jp-layout-color2: #454545;\n",
       "                    background-color: #383838;\n",
       "                }\n",
       "\n",
       "                .geemap-dark .jupyter-button {\n",
       "                    --jp-layout-color3: #383838;\n",
       "                }\n",
       "\n",
       "                .geemap-colab {\n",
       "                    background-color: var(--colab-primary-surface-color, white);\n",
       "                }\n",
       "\n",
       "                .geemap-colab .jupyter-button {\n",
       "                    --jp-layout-color3: var(--colab-primary-surface-color, white);\n",
       "                }\n",
       "            </style>\n",
       "            "
      ],
      "text/plain": [
       "<IPython.core.display.HTML object>"
      ]
     },
     "metadata": {},
     "output_type": "display_data"
    }
   ],
   "source": [
    "# # Create output directory\n",
    "# import os\n",
    "# out_dir = 'data/cleaned'\n",
    "# os.makedirs(out_dir, exist_ok=True)\n",
    "\n",
    "# print(\"Downloading layers to data/cleaned...\")\n",
    "\n",
    "# # Download the 3 smaller files directly\n",
    "# print(\"Downloading smaller files directly...\")\n",
    "\n",
    "# # 1. Download GHSL Built Characteristics (10m) - Direct download\n",
    "# geemap.ee_export_image(\n",
    "#     ghsl,\n",
    "#     filename=f'{out_dir}/GHSL_Built_Characteristics.tif',\n",
    "#     scale=10,\n",
    "#     crs='EPSG:32643',\n",
    "#     region=aoi\n",
    "# )\n",
    "# print(\"✓ GHSL Built Characteristics downloaded (10m)\")\n",
    "\n",
    "# # 2. Download VIIRS Nighttime Lights (464m) - Direct download\n",
    "# geemap.ee_export_image(\n",
    "#     viirs,\n",
    "#     filename=f'{out_dir}/VIIRS_Nighttime_Lights.tif',\n",
    "#     scale=464,\n",
    "#     crs='EPSG:32643',\n",
    "#     region=aoi\n",
    "# )\n",
    "# print(\"✓ VIIRS Nighttime Lights downloaded (464m)\")\n",
    "\n",
    "# # 3. Download Residential Light Intensity (464m) - Direct download\n",
    "# geemap.ee_export_image(\n",
    "#     residential_light_intensity,\n",
    "#     filename=f'{out_dir}/Residential_Light_Intensity.tif',\n",
    "#     scale=464,\n",
    "#     crs='EPSG:32643',\n",
    "#     region=aoi\n",
    "# )\n",
    "# print(\"✓ Residential Light Intensity downloaded (464m)\")\n",
    "\n",
    "# # 4. Export Illuminated Residential Volume to Google Drive (too large for direct download)\n",
    "# print(\"Exporting Illuminated Residential Volume to Google Drive (too large for direct download)...\")\n",
    "\n",
    "# task_volume = ee.batch.Export.image.toDrive(\n",
    "#     image=illuminated_residential_volume,\n",
    "#     description='Illuminated_Residential_Volume',\n",
    "#     scale=10,\n",
    "#     region=aoi,\n",
    "#     crs='EPSG:32643',\n",
    "#     maxPixels=1e13,\n",
    "#     folder='Jaipur'\n",
    "# )\n",
    "\n",
    "# task_volume.start()\n",
    "# print(\"✓ Illuminated Residential Volume export task started\")\n",
    "# print(\"Check Google Drive folder: GHSL_VIIRS_Jaipur\")\n",
    "# print(\"Download manually to data/cleaned/ when export completes\")\n",
    "\n",
    "# print(f\"Direct downloads completed in: {out_dir}/\")\n",
    "# print(\"Files ready:\")\n",
    "# print(\"- GHSL_Built_Characteristics.tif\")\n",
    "# print(\"- VIIRS_Nighttime_Lights.tif\") \n",
    "# print(\"- Residential_Light_Intensity.tif\")\n",
    "# print(\"Pending: Illuminated_Residential_Volume.tif (via Google Drive)\")"
   ]
  },
  {
   "cell_type": "code",
   "execution_count": null,
   "metadata": {},
   "outputs": [],
   "source": []
  }
 ],
 "metadata": {
  "kernelspec": {
   "display_name": "Python 3 (ipykernel)",
   "language": "python",
   "name": "python3"
  },
  "language_info": {
   "codemirror_mode": {
    "name": "ipython",
    "version": 3
   },
   "file_extension": ".py",
   "mimetype": "text/x-python",
   "name": "python",
   "nbconvert_exporter": "python",
   "pygments_lexer": "ipython3",
   "version": "3.11.11"
  }
 },
 "nbformat": 4,
 "nbformat_minor": 4
}
