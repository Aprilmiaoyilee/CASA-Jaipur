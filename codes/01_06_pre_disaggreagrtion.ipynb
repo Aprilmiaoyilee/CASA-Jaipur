{
 "cells": [
  {
   "cell_type": "code",
   "id": "initial_id",
   "metadata": {
    "collapsed": true,
    "jupyter": {
     "outputs_hidden": true
    },
    "ExecuteTime": {
     "end_time": "2025-08-07T03:25:13.256770Z",
     "start_time": "2025-08-07T03:25:13.251237Z"
    }
   },
   "source": [
    "import os\n",
    "os.getcwd()\n",
    "os.chdir(\"G:/OneDrive/casa0010dissertation/00_06 jaipur code_mgwr\")"
   ],
   "outputs": [],
   "execution_count": 28
  },
  {
   "cell_type": "code",
   "id": "edfd45fd2476c3d",
   "metadata": {
    "ExecuteTime": {
     "end_time": "2025-08-07T03:25:13.359078Z",
     "start_time": "2025-08-07T03:25:13.354781Z"
    }
   },
   "source": [
    "import numpy as np\n",
    "import pandas as pd"
   ],
   "outputs": [],
   "execution_count": 29
  },
  {
   "cell_type": "markdown",
   "id": "e568e402096e44ef",
   "metadata": {},
   "source": [
    "# 1 Create 100m resolution rasters and Grid"
   ]
  },
  {
   "cell_type": "code",
   "id": "e96f2b47c6e4b1b2",
   "metadata": {
    "ExecuteTime": {
     "end_time": "2025-08-07T03:25:13.478769Z",
     "start_time": "2025-08-07T03:25:13.451298Z"
    }
   },
   "source": [
    "import rasterio\n",
    "\n",
    "#3 raster file paths\n",
    "raster_files = [\n",
    "    'data/cleaned/resampled_100m/Illuminated_Residential_Volume_100m.tif',           # illumination volume\n",
    "    'data/cleaned/resampled_100m/Residential_Light_Intensity_10m_100m.tif',     # light intensity\n",
    "    'data/cleaned/resampled_100m/combined_poi_kde_1600m_residential_100m.tif'              # POI kernel density\n",
    "]\n",
    "\n",
    "# Check spatial parameters for each raster\n",
    "def check_raster_info(file_path):\n",
    "    with rasterio.open(file_path) as src:\n",
    "        return {\n",
    "            'file': file_path.split('/')[-1],\n",
    "            'transform': src.transform,\n",
    "            'crs': src.crs,\n",
    "            'bounds': src.bounds,\n",
    "            'shape': src.shape,\n",
    "            'pixel_size': (src.transform[0], abs(src.transform[4])),  # (x_size, y_size)\n",
    "            'origin': (src.bounds.left, src.bounds.top)  # Top-left corner coordinates\n",
    "        }\n",
    "\n",
    "# Check all rasters\n",
    "raster_info = []\n",
    "for file in raster_files:\n",
    "    info = check_raster_info(file)\n",
    "    raster_info.append(info)\n",
    "\n",
    "# Print detailed information\n",
    "for info in raster_info:\n",
    "    print(f\"\\n=== {info['file']} ===\")\n",
    "    print(f\"Pixel size: {info['pixel_size']}\")\n",
    "    print(f\"Coordinate system: {info['crs']}\")\n",
    "    print(f\"Bounds: {info['bounds']}\")\n",
    "    print(f\"Shape: {info['shape']}\")\n",
    "    print(f\"Affine transform: {info['transform']}\")"
   ],
   "outputs": [
    {
     "name": "stdout",
     "output_type": "stream",
     "text": [
      "\n",
      "=== Illuminated_Residential_Volume_100m.tif ===\n",
      "Pixel size: (100.0, 100.0)\n",
      "Coordinate system: EPSG:32643\n",
      "Bounds: BoundingBox(left=568320.0, bottom=2961490.0, right=590620.0, top=2989590.0)\n",
      "Shape: (281, 223)\n",
      "Affine transform: | 100.00, 0.00, 568320.00|\n",
      "| 0.00,-100.00, 2989590.00|\n",
      "| 0.00, 0.00, 1.00|\n",
      "\n",
      "=== Residential_Light_Intensity_10m_100m.tif ===\n",
      "Pixel size: (100.0, 100.0)\n",
      "Coordinate system: EPSG:32643\n",
      "Bounds: BoundingBox(left=568320.0, bottom=2961490.0, right=590620.0, top=2989590.0)\n",
      "Shape: (281, 223)\n",
      "Affine transform: | 100.00, 0.00, 568320.00|\n",
      "| 0.00,-100.00, 2989590.00|\n",
      "| 0.00, 0.00, 1.00|\n",
      "\n",
      "=== combined_poi_kde_1600m_residential_100m.tif ===\n",
      "Pixel size: (99.65089520390208, 99.93849810134725)\n",
      "Coordinate system: EPSG:32643\n",
      "Bounds: BoundingBox(left=567326.3241777108, bottom=2960497.836030203, right=591541.491712259, top=2990579.3239587084)\n",
      "Shape: (301, 243)\n",
      "Affine transform: | 99.65, 0.00, 567326.32|\n",
      "| 0.00,-99.94, 2990579.32|\n",
      "| 0.00, 0.00, 1.00|\n"
     ]
    }
   ],
   "execution_count": 30
  },
  {
   "cell_type": "markdown",
   "id": "1ee2ff231017f31",
   "metadata": {},
   "source": [
    "## 1.1 resample and clip 3 data"
   ]
  },
  {
   "cell_type": "markdown",
   "id": "e1fc194ddd458b30",
   "metadata": {},
   "source": [
    "Light and volume has same grid, so only need to align poi."
   ]
  },
  {
   "cell_type": "code",
   "id": "b665fe5108bfac73",
   "metadata": {
    "ExecuteTime": {
     "end_time": "2025-08-07T03:25:13.518345Z",
     "start_time": "2025-08-07T03:25:13.484776Z"
    }
   },
   "source": [
    "import geopandas as gpd\n",
    "import rasterio\n",
    "import rasterio.mask\n",
    "from rasterio.warp import reproject, Resampling\n",
    "import numpy as np\n",
    "import os\n",
    "\n",
    "# Create output directory\n",
    "os.makedirs('data/cleaned', exist_ok=True)\n",
    "\n",
    "# Load city boundary\n",
    "city_boundary = gpd.read_file('data/raw/JMC_union.geojson')\n",
    "\n",
    "# Check boundary info\n",
    "print(\"City boundary info:\")\n",
    "print(f\"CRS: {city_boundary.crs}\")\n",
    "print(f\"Bounds: {city_boundary.total_bounds}\")\n",
    "print(f\"Number of features: {len(city_boundary)}\")"
   ],
   "outputs": [
    {
     "name": "stdout",
     "output_type": "stream",
     "text": [
      "City boundary info:\n",
      "CRS: EPSG:32643\n",
      "Bounds: [ 568325.71944039 2961497.6341498   590541.50001579 2989580.08202327]\n",
      "Number of features: 1\n"
     ]
    }
   ],
   "execution_count": 31
  },
  {
   "cell_type": "code",
   "id": "6cdf8aff0287e566",
   "metadata": {
    "ExecuteTime": {
     "end_time": "2025-08-07T03:25:13.621819Z",
     "start_time": "2025-08-07T03:25:13.594161Z"
    }
   },
   "source": [
    "# Use illumination raster as reference for alignment\n",
    "with rasterio.open('data/cleaned/resampled_100m/Illuminated_Residential_Volume_100m.tif') as reference:\n",
    "    ref_transform = reference.transform\n",
    "    ref_crs = reference.crs\n",
    "    ref_shape = reference.shape\n",
    "\n",
    "# Resample POI raster to match reference grid\n",
    "with rasterio.open('data/cleaned/resampled_100m/combined_poi_kde_1600m_residential_100m.tif') as poi_src:\n",
    "    # Create aligned array\n",
    "    aligned_poi = np.empty(ref_shape, dtype=poi_src.dtypes[0])\n",
    "\n",
    "    # Reproject to match reference grid\n",
    "    reproject(\n",
    "        source=rasterio.band(poi_src, 1),\n",
    "        destination=aligned_poi,\n",
    "        src_transform=poi_src.transform,\n",
    "        src_crs=poi_src.crs,\n",
    "        dst_transform=ref_transform,\n",
    "        dst_crs=ref_crs,\n",
    "        resampling=Resampling.bilinear\n",
    "    )\n",
    "\n",
    "    # Save resampled POI raster (temporary file)\n",
    "    with rasterio.open('temp_aligned_poi.tif', 'w',\n",
    "                       driver='GTiff', height=ref_shape[0], width=ref_shape[1],\n",
    "                       count=1, dtype=aligned_poi.dtype, crs=ref_crs,\n",
    "                       transform=ref_transform, nodata=0) as dst:\n",
    "        dst.write(aligned_poi, 1)\n",
    "\n",
    "print(\"POI raster resampled to match other two!\")"
   ],
   "outputs": [
    {
     "name": "stdout",
     "output_type": "stream",
     "text": [
      "POI raster resampled to match other two!\n"
     ]
    }
   ],
   "execution_count": 32
  },
  {
   "cell_type": "code",
   "id": "a711b15c375e0ba7",
   "metadata": {
    "ExecuteTime": {
     "end_time": "2025-08-07T03:25:13.779597Z",
     "start_time": "2025-08-07T03:25:13.701549Z"
    }
   },
   "source": [
    "# Now all three rasters are aligned - crop them all\n",
    "all_rasters = [\n",
    "    'data/cleaned/resampled_100m/Illuminated_Residential_Volume_100m.tif',\n",
    "    'data/cleaned/resampled_100m/Residential_Light_Intensity_10m_100m.tif',\n",
    "    'temp_aligned_poi.tif'  # The resampled POI raster\n",
    "]\n",
    "\n",
    "output_names = [\n",
    "    'illum_vol_cropped.tif',\n",
    "    'light_intensity_cropped.tif',\n",
    "    'poi_kde_cropped.tif'\n",
    "]\n",
    "\n",
    "cropped_files = []\n",
    "\n",
    "for i, raster_file in enumerate(all_rasters):\n",
    "    with rasterio.open(raster_file) as src:\n",
    "        # Crop raster with city boundary\n",
    "        out_image, out_transform = rasterio.mask.mask(\n",
    "            src, city_boundary.geometry, crop=True, nodata=0\n",
    "        )\n",
    "\n",
    "        # Update metadata\n",
    "        out_meta = src.meta.copy()\n",
    "        out_meta.update({\n",
    "            \"driver\": \"GTiff\",\n",
    "            \"height\": out_image.shape[1],\n",
    "            \"width\": out_image.shape[2],\n",
    "            \"transform\": out_transform,\n",
    "            \"nodata\": 0\n",
    "        })\n",
    "\n",
    "        # Save cropped raster to data/cleaned\n",
    "        output_file = f\"data/cleaned/{output_names[i]}\"\n",
    "        with rasterio.open(output_file, \"w\", **out_meta) as dest:\n",
    "            dest.write(out_image)\n",
    "\n",
    "        cropped_files.append(output_file)\n",
    "        print(f\"Cropped and saved: {output_file}\")\n",
    "\n",
    "# Clean up temporary file\n",
    "os.remove('temp_aligned_poi.tif')"
   ],
   "outputs": [
    {
     "name": "stdout",
     "output_type": "stream",
     "text": [
      "Cropped and saved: data/cleaned/illum_vol_cropped.tif\n",
      "Cropped and saved: data/cleaned/light_intensity_cropped.tif\n",
      "Cropped and saved: data/cleaned/poi_kde_cropped.tif\n"
     ]
    }
   ],
   "execution_count": 33
  },
  {
   "cell_type": "code",
   "id": "f50d8c6a125a81c0",
   "metadata": {
    "ExecuteTime": {
     "end_time": "2025-08-07T03:25:13.900135Z",
     "start_time": "2025-08-07T03:25:13.858910Z"
    }
   },
   "source": [
    "# Check all three cropped rasters are perfectly aligned\n",
    "cropped_rasters = [\n",
    "    'data/cleaned/illum_vol_cropped.tif',\n",
    "    'data/cleaned/light_intensity_cropped.tif',\n",
    "    'data/cleaned/poi_kde_cropped.tif'\n",
    "]\n",
    "\n",
    "for raster_file in cropped_rasters:\n",
    "    with rasterio.open(raster_file) as src:\n",
    "        print(f\"\\n=== {raster_file} ===\")\n",
    "        print(f\"Shape: {src.shape}\")\n",
    "        print(f\"Pixel size: {(src.transform[0], abs(src.transform[4]))}\")\n",
    "        print(f\"Transform: {src.transform}\")\n",
    "        print(f\"Bounds: {src.bounds}\")"
   ],
   "outputs": [
    {
     "name": "stdout",
     "output_type": "stream",
     "text": [
      "\n",
      "=== data/cleaned/illum_vol_cropped.tif ===\n",
      "Shape: (281, 223)\n",
      "Pixel size: (100.0, 100.0)\n",
      "Transform: | 100.00, 0.00, 568320.00|\n",
      "| 0.00,-100.00, 2989590.00|\n",
      "| 0.00, 0.00, 1.00|\n",
      "Bounds: BoundingBox(left=568320.0, bottom=2961490.0, right=590620.0, top=2989590.0)\n",
      "\n",
      "=== data/cleaned/light_intensity_cropped.tif ===\n",
      "Shape: (281, 223)\n",
      "Pixel size: (100.0, 100.0)\n",
      "Transform: | 100.00, 0.00, 568320.00|\n",
      "| 0.00,-100.00, 2989590.00|\n",
      "| 0.00, 0.00, 1.00|\n",
      "Bounds: BoundingBox(left=568320.0, bottom=2961490.0, right=590620.0, top=2989590.0)\n",
      "\n",
      "=== data/cleaned/poi_kde_cropped.tif ===\n",
      "Shape: (281, 223)\n",
      "Pixel size: (100.0, 100.0)\n",
      "Transform: | 100.00, 0.00, 568320.00|\n",
      "| 0.00,-100.00, 2989590.00|\n",
      "| 0.00, 0.00, 1.00|\n",
      "Bounds: BoundingBox(left=568320.0, bottom=2961490.0, right=590620.0, top=2989590.0)\n"
     ]
    }
   ],
   "execution_count": 34
  },
  {
   "cell_type": "markdown",
   "id": "1d06dc30c7355eb6",
   "metadata": {},
   "source": [
    "## 1.2 Create 100m Grid Center Points"
   ]
  },
  {
   "cell_type": "code",
   "id": "29e5e373e51a6834",
   "metadata": {
    "ExecuteTime": {
     "end_time": "2025-08-07T03:25:14.135266Z",
     "start_time": "2025-08-07T03:25:13.977954Z"
    }
   },
   "source": [
    "# Create 100m grid center points\n",
    "with rasterio.open('data/cleaned/illum_vol_cropped.tif') as src:\n",
    "    transform = src.transform\n",
    "    shape = src.shape\n",
    "    crs = src.crs\n",
    "\n",
    "    # Create grid indices\n",
    "    rows, cols = np.meshgrid(range(shape[0]), range(shape[1]), indexing='ij')\n",
    "\n",
    "    # Get center coordinates\n",
    "    xs, ys = rasterio.transform.xy(transform, rows.flatten(), cols.flatten(), offset='center')\n",
    "\n",
    "    # Create points GeoDataFrame\n",
    "    grid_gdf = gpd.GeoDataFrame(\n",
    "        {\n",
    "            'grid_id': range(len(xs)),\n",
    "            'row': rows.flatten(),\n",
    "            'col': cols.flatten()\n",
    "        },\n",
    "        geometry=gpd.points_from_xy(xs, ys),\n",
    "        crs=crs\n",
    "    )\n",
    "\n",
    "print(f\"Created {len(grid_gdf)} grid center points\")"
   ],
   "outputs": [
    {
     "name": "stdout",
     "output_type": "stream",
     "text": [
      "Created 62663 grid center points\n"
     ]
    }
   ],
   "execution_count": 35
  },
  {
   "cell_type": "code",
   "id": "3d76f251027e9eea",
   "metadata": {
    "ExecuteTime": {
     "end_time": "2025-08-07T03:25:14.301656Z",
     "start_time": "2025-08-07T03:25:14.290789Z"
    }
   },
   "source": [
    "grid_gdf.head(5)"
   ],
   "outputs": [
    {
     "data": {
      "text/plain": [
       "   grid_id  row  col                geometry\n",
       "0        0    0    0  POINT (568370 2989540)\n",
       "1        1    0    1  POINT (568470 2989540)\n",
       "2        2    0    2  POINT (568570 2989540)\n",
       "3        3    0    3  POINT (568670 2989540)\n",
       "4        4    0    4  POINT (568770 2989540)"
      ],
      "text/html": [
       "<div>\n",
       "<style scoped>\n",
       "    .dataframe tbody tr th:only-of-type {\n",
       "        vertical-align: middle;\n",
       "    }\n",
       "\n",
       "    .dataframe tbody tr th {\n",
       "        vertical-align: top;\n",
       "    }\n",
       "\n",
       "    .dataframe thead th {\n",
       "        text-align: right;\n",
       "    }\n",
       "</style>\n",
       "<table border=\"1\" class=\"dataframe\">\n",
       "  <thead>\n",
       "    <tr style=\"text-align: right;\">\n",
       "      <th></th>\n",
       "      <th>grid_id</th>\n",
       "      <th>row</th>\n",
       "      <th>col</th>\n",
       "      <th>geometry</th>\n",
       "    </tr>\n",
       "  </thead>\n",
       "  <tbody>\n",
       "    <tr>\n",
       "      <th>0</th>\n",
       "      <td>0</td>\n",
       "      <td>0</td>\n",
       "      <td>0</td>\n",
       "      <td>POINT (568370 2989540)</td>\n",
       "    </tr>\n",
       "    <tr>\n",
       "      <th>1</th>\n",
       "      <td>1</td>\n",
       "      <td>0</td>\n",
       "      <td>1</td>\n",
       "      <td>POINT (568470 2989540)</td>\n",
       "    </tr>\n",
       "    <tr>\n",
       "      <th>2</th>\n",
       "      <td>2</td>\n",
       "      <td>0</td>\n",
       "      <td>2</td>\n",
       "      <td>POINT (568570 2989540)</td>\n",
       "    </tr>\n",
       "    <tr>\n",
       "      <th>3</th>\n",
       "      <td>3</td>\n",
       "      <td>0</td>\n",
       "      <td>3</td>\n",
       "      <td>POINT (568670 2989540)</td>\n",
       "    </tr>\n",
       "    <tr>\n",
       "      <th>4</th>\n",
       "      <td>4</td>\n",
       "      <td>0</td>\n",
       "      <td>4</td>\n",
       "      <td>POINT (568770 2989540)</td>\n",
       "    </tr>\n",
       "  </tbody>\n",
       "</table>\n",
       "</div>"
      ]
     },
     "execution_count": 36,
     "metadata": {},
     "output_type": "execute_result"
    }
   ],
   "execution_count": 36
  },
  {
   "cell_type": "markdown",
   "id": "648c7be2168fc0f1",
   "metadata": {},
   "source": [
    "# 2 Extract Values from Rasters to Grid"
   ]
  },
  {
   "cell_type": "code",
   "id": "7d0d37fda28dbd66",
   "metadata": {
    "ExecuteTime": {
     "end_time": "2025-08-07T03:25:14.390184Z",
     "start_time": "2025-08-07T03:25:14.360065Z"
    }
   },
   "source": [
    "# Extract values from all three aligned rasters\n",
    "# in this part, the extract vol value(sum in grid) is equal to its density as we use ha as unit and 100*100m grid is 1 ha.\n",
    "raster_files = [\n",
    "    'data/cleaned/illum_vol_cropped.tif',\n",
    "    'data/cleaned/light_intensity_cropped.tif',\n",
    "    'data/cleaned/poi_kde_cropped.tif'\n",
    "]\n",
    "\n",
    "column_names = ['illum_vol', 'light_intensity', 'poi_kde']\n",
    "\n",
    "# Extract values using row/col indices (most efficient method)\n",
    "for i, raster_file in enumerate(raster_files):\n",
    "    with rasterio.open(raster_file) as src:\n",
    "        # Read entire raster\n",
    "        raster_data = src.read(1)\n",
    "\n",
    "        # Extract values using row/col indices\n",
    "        values = raster_data[grid_gdf['row'], grid_gdf['col']]\n",
    "\n",
    "        # Add to grid dataframe\n",
    "        grid_gdf[column_names[i]] = values\n",
    "\n",
    "print(\"Raster values extracted successfully!\")\n",
    "print(f\"Grid columns: {list(grid_gdf.columns)}\")\n",
    "print(f\"Sample data:\\n{grid_gdf[['grid_id'] + column_names].head()}\")"
   ],
   "outputs": [
    {
     "name": "stdout",
     "output_type": "stream",
     "text": [
      "Raster values extracted successfully!\n",
      "Grid columns: ['grid_id', 'row', 'col', 'geometry', 'illum_vol', 'light_intensity', 'poi_kde']\n",
      "Sample data:\n",
      "   grid_id  illum_vol  light_intensity  poi_kde\n",
      "0        0        0.0              0.0      0.0\n",
      "1        1        0.0              0.0      0.0\n",
      "2        2        0.0              0.0      0.0\n",
      "3        3        0.0              0.0      0.0\n",
      "4        4        0.0              0.0      0.0\n"
     ]
    }
   ],
   "execution_count": 37
  },
  {
   "cell_type": "code",
   "id": "9e59bb291872c44",
   "metadata": {
    "ExecuteTime": {
     "end_time": "2025-08-07T03:25:14.464202Z",
     "start_time": "2025-08-07T03:25:14.452051Z"
    }
   },
   "source": "grid_gdf.head(5)",
   "outputs": [
    {
     "data": {
      "text/plain": [
       "   grid_id  row  col                geometry  illum_vol  light_intensity  \\\n",
       "0        0    0    0  POINT (568370 2989540)        0.0              0.0   \n",
       "1        1    0    1  POINT (568470 2989540)        0.0              0.0   \n",
       "2        2    0    2  POINT (568570 2989540)        0.0              0.0   \n",
       "3        3    0    3  POINT (568670 2989540)        0.0              0.0   \n",
       "4        4    0    4  POINT (568770 2989540)        0.0              0.0   \n",
       "\n",
       "   poi_kde  \n",
       "0      0.0  \n",
       "1      0.0  \n",
       "2      0.0  \n",
       "3      0.0  \n",
       "4      0.0  "
      ],
      "text/html": [
       "<div>\n",
       "<style scoped>\n",
       "    .dataframe tbody tr th:only-of-type {\n",
       "        vertical-align: middle;\n",
       "    }\n",
       "\n",
       "    .dataframe tbody tr th {\n",
       "        vertical-align: top;\n",
       "    }\n",
       "\n",
       "    .dataframe thead th {\n",
       "        text-align: right;\n",
       "    }\n",
       "</style>\n",
       "<table border=\"1\" class=\"dataframe\">\n",
       "  <thead>\n",
       "    <tr style=\"text-align: right;\">\n",
       "      <th></th>\n",
       "      <th>grid_id</th>\n",
       "      <th>row</th>\n",
       "      <th>col</th>\n",
       "      <th>geometry</th>\n",
       "      <th>illum_vol</th>\n",
       "      <th>light_intensity</th>\n",
       "      <th>poi_kde</th>\n",
       "    </tr>\n",
       "  </thead>\n",
       "  <tbody>\n",
       "    <tr>\n",
       "      <th>0</th>\n",
       "      <td>0</td>\n",
       "      <td>0</td>\n",
       "      <td>0</td>\n",
       "      <td>POINT (568370 2989540)</td>\n",
       "      <td>0.0</td>\n",
       "      <td>0.0</td>\n",
       "      <td>0.0</td>\n",
       "    </tr>\n",
       "    <tr>\n",
       "      <th>1</th>\n",
       "      <td>1</td>\n",
       "      <td>0</td>\n",
       "      <td>1</td>\n",
       "      <td>POINT (568470 2989540)</td>\n",
       "      <td>0.0</td>\n",
       "      <td>0.0</td>\n",
       "      <td>0.0</td>\n",
       "    </tr>\n",
       "    <tr>\n",
       "      <th>2</th>\n",
       "      <td>2</td>\n",
       "      <td>0</td>\n",
       "      <td>2</td>\n",
       "      <td>POINT (568570 2989540)</td>\n",
       "      <td>0.0</td>\n",
       "      <td>0.0</td>\n",
       "      <td>0.0</td>\n",
       "    </tr>\n",
       "    <tr>\n",
       "      <th>3</th>\n",
       "      <td>3</td>\n",
       "      <td>0</td>\n",
       "      <td>3</td>\n",
       "      <td>POINT (568670 2989540)</td>\n",
       "      <td>0.0</td>\n",
       "      <td>0.0</td>\n",
       "      <td>0.0</td>\n",
       "    </tr>\n",
       "    <tr>\n",
       "      <th>4</th>\n",
       "      <td>4</td>\n",
       "      <td>0</td>\n",
       "      <td>4</td>\n",
       "      <td>POINT (568770 2989540)</td>\n",
       "      <td>0.0</td>\n",
       "      <td>0.0</td>\n",
       "      <td>0.0</td>\n",
       "    </tr>\n",
       "  </tbody>\n",
       "</table>\n",
       "</div>"
      ]
     },
     "execution_count": 38,
     "metadata": {},
     "output_type": "execute_result"
    }
   ],
   "execution_count": 38
  },
  {
   "cell_type": "code",
   "id": "b5b99a525d8097d5",
   "metadata": {
    "ExecuteTime": {
     "end_time": "2025-08-07T03:25:14.583569Z",
     "start_time": "2025-08-07T03:25:14.573754Z"
    }
   },
   "source": [
    "# Calculate the value ranges and mean for the specified columns\n",
    "columns_to_check = ['illum_vol', 'light_intensity', 'poi_kde']\n",
    "for col in columns_to_check:\n",
    "    min_value = grid_gdf[col].min()\n",
    "    max_value = grid_gdf[col].max()\n",
    "    mean_value = grid_gdf[col].mean()\n",
    "    print(f\"{col} value range: Min = {min_value}, Max = {max_value}, Mean = {mean_value}\")"
   ],
   "outputs": [
    {
     "name": "stdout",
     "output_type": "stream",
     "text": [
      "illum_vol value range: Min = 0.0, Max = 3477.942626953125, Mean = 313.7272033691406\n",
      "light_intensity value range: Min = 0.0, Max = 74.91223907470703, Mean = 6.7797136306762695\n",
      "poi_kde value range: Min = 0.0, Max = 1.3284281230596662e-08, Mean = 8.219883662619054e-10\n"
     ]
    }
   ],
   "execution_count": 39
  },
  {
   "cell_type": "markdown",
   "id": "188de0c13d5e0268",
   "metadata": {},
   "source": [
    "# 3 Load Ward Data and Assign Coefficients"
   ]
  },
  {
   "cell_type": "code",
   "id": "424a50b96646a372",
   "metadata": {
    "ExecuteTime": {
     "end_time": "2025-08-07T03:25:14.906874Z",
     "start_time": "2025-08-07T03:25:14.669682Z"
    }
   },
   "source": [
    "# Load ward GeoDataFrame\n",
    "ward_gdf = gpd.read_file('data/cleaned/ward_results_mgwr_03.geojson')\n",
    "\n",
    "print(f\"Ward data loaded: {len(ward_gdf)} wards\")\n",
    "print(f\"Ward columns: {list(ward_gdf.columns)}\")\n",
    "print(f\"Ward CRS: {ward_gdf.crs}\")\n",
    "\n",
    "# Ensure ward_gdf and grid_gdf have same CRS\n",
    "if ward_gdf.crs != grid_gdf.crs:\n",
    "    ward_gdf = ward_gdf.to_crs(grid_gdf.crs)\n",
    "    print(f\"Ward CRS converted to: {ward_gdf.crs}\")\n",
    "\n",
    "# Spatial join: assign ward coefficients to grid points\n",
    "# Include 'Id' as the unique ward identifier\n",
    "grid_with_wards = gpd.sjoin(\n",
    "    grid_gdf,\n",
    "    ward_gdf[['Id', 'Ward_No', 'POP', 'intercept', 'illum_vol_estimate',\n",
    "              'light_intensity_estimate', 'poi_kde_estimate', 'geometry']],\n",
    "    how='left',\n",
    "    predicate='within'\n",
    ")\n",
    "\n",
    "# Check results\n",
    "outside_wards = grid_with_wards['Id'].isna().sum()\n",
    "print(f\"Grid points outside wards: {outside_wards}\")\n",
    "print(f\"Grid points with ward assignments: {len(grid_with_wards) - outside_wards}\")\n",
    "\n",
    "# Preview results\n",
    "print(f\"\\nSample data with ward info:\")\n",
    "print(grid_with_wards[['grid_id', 'Id', 'Ward_No', 'illum_vol', 'light_intensity', 'poi_kde',\n",
    "                       'intercept', 'illum_vol_estimate']].head())\n",
    "\n",
    "# Check unique wards assigned\n",
    "print(f\"\\nNumber of unique wards in grid: {grid_with_wards['Id'].nunique()}\")\n",
    "print(f\"Ward ID range: {grid_with_wards['Id'].min()} to {grid_with_wards['Id'].max()}\")"
   ],
   "outputs": [
    {
     "name": "stdout",
     "output_type": "stream",
     "text": [
      "Ward data loaded: 251 wards\n",
      "Ward columns: ['Id', 'Area', 'Ward_No', 'POP', 'DENS_PPH', 'NAME', 'assembly', 'jmc', 'X', 'Y', 'lon', 'lat', 'illum_vol_density', 'light_intensity', 'poi_kde', 'poi_kde_scaled', 'intercept', 'illum_vol_estimate', 'light_intensity_estimate', 'poi_kde_estimate', 'geometry']\n",
      "Ward CRS: EPSG:32643\n",
      "Grid points outside wards: 23759\n",
      "Grid points with ward assignments: 38904\n",
      "\n",
      "Sample data with ward info:\n",
      "   grid_id  Id  Ward_No  illum_vol  light_intensity  poi_kde  intercept  \\\n",
      "0        0 NaN      NaN        0.0              0.0      0.0        NaN   \n",
      "1        1 NaN      NaN        0.0              0.0      0.0        NaN   \n",
      "2        2 NaN      NaN        0.0              0.0      0.0        NaN   \n",
      "3        3 NaN      NaN        0.0              0.0      0.0        NaN   \n",
      "4        4 NaN      NaN        0.0              0.0      0.0        NaN   \n",
      "\n",
      "   illum_vol_estimate  \n",
      "0                 NaN  \n",
      "1                 NaN  \n",
      "2                 NaN  \n",
      "3                 NaN  \n",
      "4                 NaN  \n",
      "\n",
      "Number of unique wards in grid: 251\n",
      "Ward ID range: 1.0 to 251.0\n"
     ]
    }
   ],
   "execution_count": 40
  },
  {
   "cell_type": "code",
   "id": "74a17db33dd1d3f5",
   "metadata": {
    "ExecuteTime": {
     "end_time": "2025-08-07T03:25:15.918407Z",
     "start_time": "2025-08-07T03:25:14.915883Z"
    }
   },
   "source": [
    "# Quick visualization to understand the gap\n",
    "import matplotlib.pyplot as plt\n",
    "\n",
    "fig, ax = plt.subplots(1, 1, figsize=(10, 8))\n",
    "\n",
    "# Plot city boundary\n",
    "city_boundary.boundary.plot(ax=ax, color='red', linewidth=2, label='City Boundary')\n",
    "\n",
    "# Plot ward boundaries\n",
    "ward_gdf.boundary.plot(ax=ax, color='blue', linewidth=0.5, alpha=0.7, label='Ward Boundaries')\n",
    "\n",
    "# Plot grid points (sample for visibility)\n",
    "grid_sample = grid_with_wards.sample(min(5000, len(grid_with_wards)))\n",
    "inside = grid_sample[grid_sample['Id'].notna()]\n",
    "outside = grid_sample[grid_sample['Id'].isna()]\n",
    "\n",
    "inside.plot(ax=ax, color='green', markersize=0.1, alpha=0.5, label='Inside Wards')\n",
    "outside.plot(ax=ax, color='red', markersize=0.1, alpha=0.5, label='Outside Wards')\n",
    "\n",
    "plt.legend()\n",
    "plt.title(\"Grid Points vs Ward Boundaries\")\n",
    "plt.show()"
   ],
   "outputs": [
    {
     "data": {
      "text/plain": [
       "<Figure size 1000x800 with 1 Axes>"
      ],
      "image/png": "[encoded data removed]"
     },
     "metadata": {},
     "output_type": "display_data"
    }
   ],
   "execution_count": 41
  },
  {
   "metadata": {},
   "cell_type": "markdown",
   "source": "A problem happened here, some grid points are outside wards.It is because I use bounding box to crop the raster data.So I will filtered the data with city now.",
   "id": "13a6c0651daff11f"
  },
  {
   "metadata": {
    "ExecuteTime": {
     "end_time": "2025-08-07T03:25:17.047404Z",
     "start_time": "2025-08-07T03:25:16.070489Z"
    }
   },
   "cell_type": "code",
   "source": [
    "# Clean up any existing spatial join columns first\n",
    "cleanup_columns = ['index_right', 'index_left']\n",
    "for col in cleanup_columns:\n",
    "    if col in grid_with_wards.columns:\n",
    "        grid_with_wards = grid_with_wards.drop(col, axis=1)\n",
    "        print(f\"Removed existing column: {col}\")\n",
    "\n",
    "print(\"Before filtering:\")\n",
    "print(f\"Total grid points: {len(grid_with_wards)}\")\n",
    "print(f\"Points outside wards: {grid_with_wards['Id'].isna().sum()}\")\n",
    "\n",
    "# Spatial join with city boundary - include points ON the boundary too\n",
    "grid_in_city = gpd.sjoin(\n",
    "    grid_with_wards,\n",
    "    city_boundary[['geometry']],\n",
    "    how='inner',  # Only keep matched points\n",
    "    predicate='intersects'  # Include points inside OR on boundary\n",
    ")\n",
    "\n",
    "# Drop the extra index column from spatial join\n",
    "if 'index_right' in grid_in_city.columns:\n",
    "    grid_in_city = grid_in_city.drop('index_right', axis=1)\n",
    "\n",
    "print(\"\\nAfter filtering to city boundary:\")\n",
    "print(f\"Grid points in city (including boundary): {len(grid_in_city)}\")\n",
    "print(f\"Points outside wards (should be much less): {grid_in_city['Id'].isna().sum()}\")\n",
    "\n",
    "# Update our working dataframe\n",
    "grid_with_wards = grid_in_city.copy()\n",
    "\n",
    "# Check remaining unassigned points\n",
    "remaining_outside = grid_with_wards['Id'].isna().sum()\n",
    "if remaining_outside > 0:\n",
    "    print(f\"\\nWill assign {remaining_outside} remaining points to nearest wards...\")"
   ],
   "id": "acddb93439347c00",
   "outputs": [
    {
     "name": "stdout",
     "output_type": "stream",
     "text": [
      "Removed existing column: index_right\n",
      "Before filtering:\n",
      "Total grid points: 62663\n",
      "Points outside wards: 23759\n",
      "\n",
      "After filtering to city boundary:\n",
      "Grid points in city (including boundary): 38906\n",
      "Points outside wards (should be much less): 2\n",
      "\n",
      "Will assign 2 remaining points to nearest wards...\n"
     ]
    }
   ],
   "execution_count": 42
  },
  {
   "cell_type": "code",
   "id": "b5ee0f80dd579210",
   "metadata": {
    "ExecuteTime": {
     "end_time": "2025-08-07T03:25:17.079838Z",
     "start_time": "2025-08-07T03:25:17.053419Z"
    }
   },
   "source": [
    "# Handle the remaining 2 points outside wards\n",
    "outside_points = grid_with_wards[grid_with_wards['Id'].isna()].copy()\n",
    "\n",
    "if len(outside_points) > 0:\n",
    "    print(f\"Assigning {len(outside_points)} points to nearest wards...\")\n",
    "\n",
    "    # Get ward centroids for nearest neighbor search\n",
    "    ward_centroids = ward_gdf.geometry.centroid\n",
    "    ward_coords = np.array([[point.x, point.y] for point in ward_centroids])\n",
    "\n",
    "    # Get coordinates of unassigned points\n",
    "    outside_coords = np.array([[point.x, point.y] for point in outside_points.geometry])\n",
    "\n",
    "    # Find nearest ward for each unassigned point\n",
    "    from sklearn.neighbors import NearestNeighbors\n",
    "    nbrs = NearestNeighbors(n_neighbors=1).fit(ward_coords)\n",
    "    distances, indices = nbrs.kneighbors(outside_coords)\n",
    "\n",
    "    # Assign ward information to unassigned points\n",
    "    for i, ward_index in enumerate(indices.flatten()):\n",
    "        outside_point_idx = outside_points.index[i]\n",
    "        ward_row = ward_gdf.iloc[ward_index]\n",
    "\n",
    "        # Copy ward attributes\n",
    "        for col in ['Id', 'Ward_No', 'POP', 'intercept', 'illum_vol_estimate',\n",
    "                   'light_intensity_estimate', 'poi_kde_estimate']:\n",
    "            grid_with_wards.loc[outside_point_idx, col] = ward_row[col]\n",
    "\n",
    "    print(f\"Assignment complete!\")\n",
    "\n",
    "# Final check\n",
    "final_unassigned = grid_with_wards['Id'].isna().sum()\n",
    "print(f\"\\nFinal result:\")\n",
    "print(f\"Total grid points: {len(grid_with_wards)}\")\n",
    "print(f\"Points without ward assignment: {final_unassigned}\")\n",
    "print(f\"Points with ward assignment: {len(grid_with_wards) - final_unassigned}\")"
   ],
   "outputs": [
    {
     "name": "stdout",
     "output_type": "stream",
     "text": [
      "Assigning 2 points to nearest wards...\n",
      "Assignment complete!\n",
      "\n",
      "Final result:\n",
      "Total grid points: 38906\n",
      "Points without ward assignment: 0\n",
      "Points with ward assignment: 38906\n"
     ]
    }
   ],
   "execution_count": 43
  },
  {
   "metadata": {
    "ExecuteTime": {
     "end_time": "2025-08-07T03:25:17.169772Z",
     "start_time": "2025-08-07T03:25:17.157283Z"
    }
   },
   "cell_type": "code",
   "source": "grid_with_wards.geometry.geom_type.value_counts()",
   "id": "c604a41f28931beb",
   "outputs": [
    {
     "data": {
      "text/plain": [
       "Point    38906\n",
       "Name: count, dtype: int64"
      ]
     },
     "execution_count": 44,
     "metadata": {},
     "output_type": "execute_result"
    }
   ],
   "execution_count": 44
  },
  {
   "metadata": {
    "ExecuteTime": {
     "end_time": "2025-08-07T03:25:17.297586Z",
     "start_time": "2025-08-07T03:25:17.292492Z"
    }
   },
   "cell_type": "code",
   "source": "grid_with_wards.rename(columns={'illum_vol': 'illum_vol_density'}, inplace=True)\n",
   "id": "6e56b1e0a7fd5756",
   "outputs": [],
   "execution_count": 45
  },
  {
   "metadata": {
    "ExecuteTime": {
     "end_time": "2025-08-07T03:25:17.371521Z",
     "start_time": "2025-08-07T03:25:17.364422Z"
    }
   },
   "cell_type": "code",
   "source": "grid_with_wards.columns",
   "id": "8e7f610bbe3eac05",
   "outputs": [
    {
     "data": {
      "text/plain": [
       "Index(['grid_id', 'row', 'col', 'geometry', 'illum_vol_density',\n",
       "       'light_intensity', 'poi_kde', 'Id', 'Ward_No', 'POP', 'intercept',\n",
       "       'illum_vol_estimate', 'light_intensity_estimate', 'poi_kde_estimate'],\n",
       "      dtype='object')"
      ]
     },
     "execution_count": 46,
     "metadata": {},
     "output_type": "execute_result"
    }
   ],
   "execution_count": 46
  },
  {
   "metadata": {
    "ExecuteTime": {
     "end_time": "2025-08-07T03:25:17.480300Z",
     "start_time": "2025-08-07T03:25:17.424569Z"
    }
   },
   "cell_type": "code",
   "source": "grid_with_wards.describe()",
   "id": "4a46e7e1e735302d",
   "outputs": [
    {
     "data": {
      "text/plain": [
       "            grid_id           row           col  illum_vol_density  \\\n",
       "count  38906.000000  38906.000000  38906.000000       38906.000000   \n",
       "mean   31943.337017    142.738035    112.755153         505.297089   \n",
       "std    14652.062173     65.660875     52.523519         770.638550   \n",
       "min       57.000000      0.000000      0.000000           0.000000   \n",
       "25%    20564.250000     92.000000     71.000000           0.000000   \n",
       "50%    32229.500000    144.000000    110.000000           0.000000   \n",
       "75%    43026.750000    192.000000    157.000000        1050.000000   \n",
       "max    62580.000000    280.000000    221.000000        3477.942627   \n",
       "\n",
       "       light_intensity       poi_kde            Id       Ward_No  \\\n",
       "count     38906.000000  3.890600e+04  38906.000000  38906.000000   \n",
       "mean         10.919580  1.323916e-09    110.411505     69.475993   \n",
       "std          15.712047  2.461920e-09     65.739897     44.202550   \n",
       "min           0.000000  0.000000e+00      1.000000      1.000000   \n",
       "25%           0.000000  0.000000e+00     56.000000     33.000000   \n",
       "50%           0.000000  0.000000e+00    113.000000     71.000000   \n",
       "75%          26.151287  1.737897e-09    151.750000    110.000000   \n",
       "max          74.912239  1.328428e-08    251.000000    150.000000   \n",
       "\n",
       "                POP     intercept  illum_vol_estimate  \\\n",
       "count  38906.000000  38906.000000        38906.000000   \n",
       "mean   11875.855806      0.680088          -12.472034   \n",
       "std     1534.745512      1.928375            0.682008   \n",
       "min     8491.000000     -3.712855          -13.792049   \n",
       "25%    10646.000000      0.000000          -13.034955   \n",
       "50%    12023.000000      0.000000          -12.341613   \n",
       "75%    12716.000000      0.000000          -11.978464   \n",
       "max    16541.000000      6.094717          -10.980242   \n",
       "\n",
       "       light_intensity_estimate  poi_kde_estimate  \n",
       "count              38906.000000      38906.000000  \n",
       "mean                   2.278041          1.725610  \n",
       "std                    2.715906          2.235175  \n",
       "min                    0.000000          0.000000  \n",
       "25%                    0.000000          0.000000  \n",
       "50%                    0.000000          0.000000  \n",
       "75%                    4.909060          4.413629  \n",
       "max                    7.017362          5.859886  "
      ],
      "text/html": [
       "<div>\n",
       "<style scoped>\n",
       "    .dataframe tbody tr th:only-of-type {\n",
       "        vertical-align: middle;\n",
       "    }\n",
       "\n",
       "    .dataframe tbody tr th {\n",
       "        vertical-align: top;\n",
       "    }\n",
       "\n",
       "    .dataframe thead th {\n",
       "        text-align: right;\n",
       "    }\n",
       "</style>\n",
       "<table border=\"1\" class=\"dataframe\">\n",
       "  <thead>\n",
       "    <tr style=\"text-align: right;\">\n",
       "      <th></th>\n",
       "      <th>grid_id</th>\n",
       "      <th>row</th>\n",
       "      <th>col</th>\n",
       "      <th>illum_vol_density</th>\n",
       "      <th>light_intensity</th>\n",
       "      <th>poi_kde</th>\n",
       "      <th>Id</th>\n",
       "      <th>Ward_No</th>\n",
       "      <th>POP</th>\n",
       "      <th>intercept</th>\n",
       "      <th>illum_vol_estimate</th>\n",
       "      <th>light_intensity_estimate</th>\n",
       "      <th>poi_kde_estimate</th>\n",
       "    </tr>\n",
       "  </thead>\n",
       "  <tbody>\n",
       "    <tr>\n",
       "      <th>count</th>\n",
       "      <td>38906.000000</td>\n",
       "      <td>38906.000000</td>\n",
       "      <td>38906.000000</td>\n",
       "      <td>38906.000000</td>\n",
       "      <td>38906.000000</td>\n",
       "      <td>3.890600e+04</td>\n",
       "      <td>38906.000000</td>\n",
       "      <td>38906.000000</td>\n",
       "      <td>38906.000000</td>\n",
       "      <td>38906.000000</td>\n",
       "      <td>38906.000000</td>\n",
       "      <td>38906.000000</td>\n",
       "      <td>38906.000000</td>\n",
       "    </tr>\n",
       "    <tr>\n",
       "      <th>mean</th>\n",
       "      <td>31943.337017</td>\n",
       "      <td>142.738035</td>\n",
       "      <td>112.755153</td>\n",
       "      <td>505.297089</td>\n",
       "      <td>10.919580</td>\n",
       "      <td>1.323916e-09</td>\n",
       "      <td>110.411505</td>\n",
       "      <td>69.475993</td>\n",
       "      <td>11875.855806</td>\n",
       "      <td>0.680088</td>\n",
       "      <td>-12.472034</td>\n",
       "      <td>2.278041</td>\n",
       "      <td>1.725610</td>\n",
       "    </tr>\n",
       "    <tr>\n",
       "      <th>std</th>\n",
       "      <td>14652.062173</td>\n",
       "      <td>65.660875</td>\n",
       "      <td>52.523519</td>\n",
       "      <td>770.638550</td>\n",
       "      <td>15.712047</td>\n",
       "      <td>2.461920e-09</td>\n",
       "      <td>65.739897</td>\n",
       "      <td>44.202550</td>\n",
       "      <td>1534.745512</td>\n",
       "      <td>1.928375</td>\n",
       "      <td>0.682008</td>\n",
       "      <td>2.715906</td>\n",
       "      <td>2.235175</td>\n",
       "    </tr>\n",
       "    <tr>\n",
       "      <th>min</th>\n",
       "      <td>57.000000</td>\n",
       "      <td>0.000000</td>\n",
       "      <td>0.000000</td>\n",
       "      <td>0.000000</td>\n",
       "      <td>0.000000</td>\n",
       "      <td>0.000000e+00</td>\n",
       "      <td>1.000000</td>\n",
       "      <td>1.000000</td>\n",
       "      <td>8491.000000</td>\n",
       "      <td>-3.712855</td>\n",
       "      <td>-13.792049</td>\n",
       "      <td>0.000000</td>\n",
       "      <td>0.000000</td>\n",
       "    </tr>\n",
       "    <tr>\n",
       "      <th>25%</th>\n",
       "      <td>20564.250000</td>\n",
       "      <td>92.000000</td>\n",
       "      <td>71.000000</td>\n",
       "      <td>0.000000</td>\n",
       "      <td>0.000000</td>\n",
       "      <td>0.000000e+00</td>\n",
       "      <td>56.000000</td>\n",
       "      <td>33.000000</td>\n",
       "      <td>10646.000000</td>\n",
       "      <td>0.000000</td>\n",
       "      <td>-13.034955</td>\n",
       "      <td>0.000000</td>\n",
       "      <td>0.000000</td>\n",
       "    </tr>\n",
       "    <tr>\n",
       "      <th>50%</th>\n",
       "      <td>32229.500000</td>\n",
       "      <td>144.000000</td>\n",
       "      <td>110.000000</td>\n",
       "      <td>0.000000</td>\n",
       "      <td>0.000000</td>\n",
       "      <td>0.000000e+00</td>\n",
       "      <td>113.000000</td>\n",
       "      <td>71.000000</td>\n",
       "      <td>12023.000000</td>\n",
       "      <td>0.000000</td>\n",
       "      <td>-12.341613</td>\n",
       "      <td>0.000000</td>\n",
       "      <td>0.000000</td>\n",
       "    </tr>\n",
       "    <tr>\n",
       "      <th>75%</th>\n",
       "      <td>43026.750000</td>\n",
       "      <td>192.000000</td>\n",
       "      <td>157.000000</td>\n",
       "      <td>1050.000000</td>\n",
       "      <td>26.151287</td>\n",
       "      <td>1.737897e-09</td>\n",
       "      <td>151.750000</td>\n",
       "      <td>110.000000</td>\n",
       "      <td>12716.000000</td>\n",
       "      <td>0.000000</td>\n",
       "      <td>-11.978464</td>\n",
       "      <td>4.909060</td>\n",
       "      <td>4.413629</td>\n",
       "    </tr>\n",
       "    <tr>\n",
       "      <th>max</th>\n",
       "      <td>62580.000000</td>\n",
       "      <td>280.000000</td>\n",
       "      <td>221.000000</td>\n",
       "      <td>3477.942627</td>\n",
       "      <td>74.912239</td>\n",
       "      <td>1.328428e-08</td>\n",
       "      <td>251.000000</td>\n",
       "      <td>150.000000</td>\n",
       "      <td>16541.000000</td>\n",
       "      <td>6.094717</td>\n",
       "      <td>-10.980242</td>\n",
       "      <td>7.017362</td>\n",
       "      <td>5.859886</td>\n",
       "    </tr>\n",
       "  </tbody>\n",
       "</table>\n",
       "</div>"
      ]
     },
     "execution_count": 47,
     "metadata": {},
     "output_type": "execute_result"
    }
   ],
   "execution_count": 47
  },
  {
   "metadata": {
    "ExecuteTime": {
     "end_time": "2025-08-07T03:25:17.614585Z",
     "start_time": "2025-08-07T03:25:17.603996Z"
    }
   },
   "cell_type": "code",
   "source": [
    "scaling_factor = 1e9  # 1,000,000,000\n",
    "\n",
    "#  poi_kde is too small, scale it up for later MGWR analysis\n",
    "grid_with_wards['poi_kde_scaled'] = grid_with_wards['poi_kde'] * scaling_factor\n",
    "\n",
    "print(\"\\n--- POI KDE distribution AFTER scaling ---\")\n",
    "print(grid_with_wards['poi_kde_scaled'].describe())"
   ],
   "id": "36236566a87a626d",
   "outputs": [
    {
     "name": "stdout",
     "output_type": "stream",
     "text": [
      "\n",
      "--- POI KDE distribution AFTER scaling ---\n",
      "count    38906.000000\n",
      "mean         1.323916\n",
      "std          2.461920\n",
      "min          0.000000\n",
      "25%          0.000000\n",
      "50%          0.000000\n",
      "75%          1.737897\n",
      "max         13.284281\n",
      "Name: poi_kde_scaled, dtype: float64\n"
     ]
    }
   ],
   "execution_count": 48
  },
  {
   "metadata": {
    "ExecuteTime": {
     "end_time": "2025-08-07T03:25:17.682207Z",
     "start_time": "2025-08-07T03:25:17.676296Z"
    }
   },
   "cell_type": "code",
   "source": "grid_with_wards.columns",
   "id": "90a20a4fc906a17a",
   "outputs": [
    {
     "data": {
      "text/plain": [
       "Index(['grid_id', 'row', 'col', 'geometry', 'illum_vol_density',\n",
       "       'light_intensity', 'poi_kde', 'Id', 'Ward_No', 'POP', 'intercept',\n",
       "       'illum_vol_estimate', 'light_intensity_estimate', 'poi_kde_estimate',\n",
       "       'poi_kde_scaled'],\n",
       "      dtype='object')"
      ]
     },
     "execution_count": 49,
     "metadata": {},
     "output_type": "execute_result"
    }
   ],
   "execution_count": 49
  },
  {
   "metadata": {
    "ExecuteTime": {
     "end_time": "2025-08-07T03:25:20.725189Z",
     "start_time": "2025-08-07T03:25:17.781217Z"
    }
   },
   "cell_type": "code",
   "source": "grid_with_wards.to_file('data/cleaned/grid_with_wards_mgwr_03.geojson', driver='GeoJSON')",
   "id": "b99c286df4cef0da",
   "outputs": [],
   "execution_count": 50
  },
  {
   "metadata": {
    "ExecuteTime": {
     "end_time": "2025-08-07T03:25:20.808863Z",
     "start_time": "2025-08-07T03:25:20.804899Z"
    }
   },
   "cell_type": "code",
   "source": "# gdf = gpd.read_file('data/cleaned/grid_with_wards_mgwr_02.geojson')",
   "id": "1d5a27c28e7fc1f7",
   "outputs": [],
   "execution_count": 51
  },
  {
   "metadata": {},
   "cell_type": "markdown",
   "source": "# 4 Calculate Population Distribution Weights",
   "id": "f8559c2637dd86ac"
  },
  {
   "metadata": {},
   "cell_type": "markdown",
   "source": "# 5 Diaggregate Population to 100m Grid",
   "id": "ebae96048c1c7a65"
  },
  {
   "metadata": {
    "ExecuteTime": {
     "end_time": "2025-08-07T03:25:20.964523Z",
     "start_time": "2025-08-07T03:25:20.959998Z"
    }
   },
   "cell_type": "code",
   "source": "# export grid_with_wards as geojson",
   "id": "e563bd5ca0824b64",
   "outputs": [],
   "execution_count": 52
  },
  {
   "metadata": {
    "ExecuteTime": {
     "end_time": "2025-08-07T03:25:20.981092Z",
     "start_time": "2025-08-07T03:25:20.977534Z"
    }
   },
   "cell_type": "code",
   "source": "# grid_with_wards.to_file('data/cleaned/grid_with_wards.geojson', driver='GeoJSON')",
   "id": "e16f25e8b01287ae",
   "outputs": [],
   "execution_count": 53
  }
 ],
 "metadata": {
  "kernelspec": {
   "display_name": "Python 3 (ipykernel)",
   "language": "python",
   "name": "python3"
  },
  "language_info": {
   "codemirror_mode": {
    "name": "ipython",
    "version": 3
   },
   "file_extension": ".py",
   "mimetype": "text/x-python",
   "name": "python",
   "nbconvert_exporter": "python",
   "pygments_lexer": "ipython3",
   "version": "3.11.11"
  }
 },
 "nbformat": 4,
 "nbformat_minor": 5
}
